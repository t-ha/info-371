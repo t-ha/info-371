{
 "cells": [
  {
   "cell_type": "markdown",
   "metadata": {},
   "source": [
    "# Problem Set 4, due May 16 at 11:59am, mid-day, noon.\n",
    "\n",
    "### Before You Start\n",
    "\n",
    "This is a fun but challenging problem set. It will test your python skills, as well as your understanding of the material in class and in the readings. Start early and debug often! Some notes:\n",
    "\n",
    "* Part 1 is meant to be easy, so get through it quickly.\n",
    "* Part 2 (especially 2.1) will be difficult, but it is the lynchpin of this problem set to make sure to do it well and understand what you've done. If you find your gradient descent algorithm is taking more than a few minutes to complete, debug more, compare notes with others, and go to the TA sessions.\n",
    "* Depending on how well you've done 2.1, parts 2.3 and 3.3 will be relatively painless or incredibly painful. \n",
    "* Part 3 (especially 3.3) will be computationally intensive. Don't leave this until the last minute, otherwise your code might be running when the deadline arrives.\n",
    "* Do the extra credit problems last."
   ]
  },
  {
   "cell_type": "markdown",
   "metadata": {},
   "source": [
    "---\n",
    "\n",
    "## Introduction to the assignment\n",
    "\n",
    "As with the last assignment, you will be using the [Boston Housing Prices Data Set](http://archive.ics.uci.edu/ml/datasets/Housing)."
   ]
  },
  {
   "cell_type": "code",
   "execution_count": 279,
   "metadata": {
    "collapsed": false
   },
   "outputs": [],
   "source": [
    "import IPython\n",
    "import numpy as np\n",
    "import scipy as sp\n",
    "import pandas as pd\n",
    "import matplotlib\n",
    "import sklearn\n",
    "from sklearn import linear_model\n",
    "import statsmodels.formula.api as smf\n",
    "import matplotlib.pyplot as plt \n",
    "\n",
    "from sklearn.datasets import load_boston\n",
    "bdata = load_boston()\n",
    "bdata.feature_names = np.append(bdata.feature_names, 'MEDV')\n",
    "boston = pd.DataFrame(bdata.data)\n",
    "boston['MEDV'] = bdata.target\n",
    "boston.columns = bdata.feature_names[:]"
   ]
  },
  {
   "cell_type": "markdown",
   "metadata": {},
   "source": [
    "---\n",
    "\n",
    "## Part 1: Getting oriented\n",
    "\n",
    "Use different learning rates\n",
    "\n",
    "### 1.1 Use existing libraries\n",
    "\n",
    "Soon, you will write your own gradient descent algorithm, which you will then use to minimize the squared error cost function.  First, however, let's use the canned versions that come with Python, to make sure we understand what we're aiming to achieve.\n",
    "\n",
    "Using the same Boston housing prices dataset, use the [Linear Regression class](http://scikit-learn.org/stable/modules/generated/sklearn.linear_model.LinearRegression.html) from sklearn or the [OLS class](http://wiki.scipy.org/Cookbook/OLS) from SciPy to explore the relationship between  median housing price and number of rooms per house. Do this by first (a) regressing the housing price on the number of rooms per house, and then (b) regressing the housing price on the number of rooms per house and the (number of rooms per house) squared.  **Interpret your results.**"
   ]
  },
  {
   "cell_type": "code",
   "execution_count": 280,
   "metadata": {
    "collapsed": false
   },
   "outputs": [
    {
     "data": {
      "text/html": [
       "<table class=\"simpletable\">\n",
       "<caption>OLS Regression Results</caption>\n",
       "<tr>\n",
       "  <th>Dep. Variable:</th>          <td>MEDV</td>       <th>  R-squared:         </th> <td>   0.484</td>\n",
       "</tr>\n",
       "<tr>\n",
       "  <th>Model:</th>                   <td>OLS</td>       <th>  Adj. R-squared:    </th> <td>   0.483</td>\n",
       "</tr>\n",
       "<tr>\n",
       "  <th>Method:</th>             <td>Least Squares</td>  <th>  F-statistic:       </th> <td>   471.8</td>\n",
       "</tr>\n",
       "<tr>\n",
       "  <th>Date:</th>             <td>Tue, 17 May 2016</td> <th>  Prob (F-statistic):</th> <td>2.49e-74</td>\n",
       "</tr>\n",
       "<tr>\n",
       "  <th>Time:</th>                 <td>06:32:40</td>     <th>  Log-Likelihood:    </th> <td> -1673.1</td>\n",
       "</tr>\n",
       "<tr>\n",
       "  <th>No. Observations:</th>      <td>   506</td>      <th>  AIC:               </th> <td>   3350.</td>\n",
       "</tr>\n",
       "<tr>\n",
       "  <th>Df Residuals:</th>          <td>   504</td>      <th>  BIC:               </th> <td>   3359.</td>\n",
       "</tr>\n",
       "<tr>\n",
       "  <th>Df Model:</th>              <td>     1</td>      <th>                     </th>     <td> </td>   \n",
       "</tr>\n",
       "<tr>\n",
       "  <th>Covariance Type:</th>      <td>nonrobust</td>    <th>                     </th>     <td> </td>   \n",
       "</tr>\n",
       "</table>\n",
       "<table class=\"simpletable\">\n",
       "<tr>\n",
       "      <td></td>         <th>coef</th>     <th>std err</th>      <th>t</th>      <th>P>|t|</th> <th>[95.0% Conf. Int.]</th> \n",
       "</tr>\n",
       "<tr>\n",
       "  <th>Intercept</th> <td>  -34.6706</td> <td>    2.650</td> <td>  -13.084</td> <td> 0.000</td> <td>  -39.877   -29.465</td>\n",
       "</tr>\n",
       "<tr>\n",
       "  <th>RM</th>        <td>    9.1021</td> <td>    0.419</td> <td>   21.722</td> <td> 0.000</td> <td>    8.279     9.925</td>\n",
       "</tr>\n",
       "</table>\n",
       "<table class=\"simpletable\">\n",
       "<tr>\n",
       "  <th>Omnibus:</th>       <td>102.585</td> <th>  Durbin-Watson:     </th> <td>   0.684</td> \n",
       "</tr>\n",
       "<tr>\n",
       "  <th>Prob(Omnibus):</th> <td> 0.000</td>  <th>  Jarque-Bera (JB):  </th> <td> 612.449</td> \n",
       "</tr>\n",
       "<tr>\n",
       "  <th>Skew:</th>          <td> 0.726</td>  <th>  Prob(JB):          </th> <td>1.02e-133</td>\n",
       "</tr>\n",
       "<tr>\n",
       "  <th>Kurtosis:</th>      <td> 8.190</td>  <th>  Cond. No.          </th> <td>    58.4</td> \n",
       "</tr>\n",
       "</table>"
      ],
      "text/plain": [
       "<class 'statsmodels.iolib.summary.Summary'>\n",
       "\"\"\"\n",
       "                            OLS Regression Results                            \n",
       "==============================================================================\n",
       "Dep. Variable:                   MEDV   R-squared:                       0.484\n",
       "Model:                            OLS   Adj. R-squared:                  0.483\n",
       "Method:                 Least Squares   F-statistic:                     471.8\n",
       "Date:                Tue, 17 May 2016   Prob (F-statistic):           2.49e-74\n",
       "Time:                        06:32:40   Log-Likelihood:                -1673.1\n",
       "No. Observations:                 506   AIC:                             3350.\n",
       "Df Residuals:                     504   BIC:                             3359.\n",
       "Df Model:                           1                                         \n",
       "Covariance Type:            nonrobust                                         \n",
       "==============================================================================\n",
       "                 coef    std err          t      P>|t|      [95.0% Conf. Int.]\n",
       "------------------------------------------------------------------------------\n",
       "Intercept    -34.6706      2.650    -13.084      0.000       -39.877   -29.465\n",
       "RM             9.1021      0.419     21.722      0.000         8.279     9.925\n",
       "==============================================================================\n",
       "Omnibus:                      102.585   Durbin-Watson:                   0.684\n",
       "Prob(Omnibus):                  0.000   Jarque-Bera (JB):              612.449\n",
       "Skew:                           0.726   Prob(JB):                    1.02e-133\n",
       "Kurtosis:                       8.190   Cond. No.                         58.4\n",
       "==============================================================================\n",
       "\n",
       "Warnings:\n",
       "[1] Standard Errors assume that the covariance matrix of the errors is correctly specified.\n",
       "\"\"\""
      ]
     },
     "execution_count": 280,
     "metadata": {},
     "output_type": "execute_result"
    }
   ],
   "source": [
    "one = smf.ols(formula='MEDV ~ RM', data=boston).fit()\n",
    "oneCoeff = round(one.params[1],2)\n",
    "oneInt = round(one.params[0],2)\n",
    "oneReg = one.predict()\n",
    "one.summary()"
   ]
  },
  {
   "cell_type": "code",
   "execution_count": 281,
   "metadata": {
    "collapsed": false
   },
   "outputs": [
    {
     "data": {
      "text/html": [
       "<table class=\"simpletable\">\n",
       "<caption>OLS Regression Results</caption>\n",
       "<tr>\n",
       "  <th>Dep. Variable:</th>          <td>MEDV</td>       <th>  R-squared:         </th> <td>   0.548</td>\n",
       "</tr>\n",
       "<tr>\n",
       "  <th>Model:</th>                   <td>OLS</td>       <th>  Adj. R-squared:    </th> <td>   0.547</td>\n",
       "</tr>\n",
       "<tr>\n",
       "  <th>Method:</th>             <td>Least Squares</td>  <th>  F-statistic:       </th> <td>   305.4</td>\n",
       "</tr>\n",
       "<tr>\n",
       "  <th>Date:</th>             <td>Tue, 17 May 2016</td> <th>  Prob (F-statistic):</th> <td>1.46e-87</td>\n",
       "</tr>\n",
       "<tr>\n",
       "  <th>Time:</th>                 <td>06:32:40</td>     <th>  Log-Likelihood:    </th> <td> -1639.1</td>\n",
       "</tr>\n",
       "<tr>\n",
       "  <th>No. Observations:</th>      <td>   506</td>      <th>  AIC:               </th> <td>   3284.</td>\n",
       "</tr>\n",
       "<tr>\n",
       "  <th>Df Residuals:</th>          <td>   503</td>      <th>  BIC:               </th> <td>   3297.</td>\n",
       "</tr>\n",
       "<tr>\n",
       "  <th>Df Model:</th>              <td>     2</td>      <th>                     </th>     <td> </td>   \n",
       "</tr>\n",
       "<tr>\n",
       "  <th>Covariance Type:</th>      <td>nonrobust</td>    <th>                     </th>     <td> </td>   \n",
       "</tr>\n",
       "</table>\n",
       "<table class=\"simpletable\">\n",
       "<tr>\n",
       "         <td></td>            <th>coef</th>     <th>std err</th>      <th>t</th>      <th>P>|t|</th> <th>[95.0% Conf. Int.]</th> \n",
       "</tr>\n",
       "<tr>\n",
       "  <th>Intercept</th>       <td>   66.0588</td> <td>   12.104</td> <td>    5.458</td> <td> 0.000</td> <td>   42.278    89.839</td>\n",
       "</tr>\n",
       "<tr>\n",
       "  <th>RM</th>              <td>  -22.6433</td> <td>    3.754</td> <td>   -6.031</td> <td> 0.000</td> <td>  -30.019   -15.267</td>\n",
       "</tr>\n",
       "<tr>\n",
       "  <th>np.power(RM, 2)</th> <td>    2.4701</td> <td>    0.291</td> <td>    8.502</td> <td> 0.000</td> <td>    1.899     3.041</td>\n",
       "</tr>\n",
       "</table>\n",
       "<table class=\"simpletable\">\n",
       "<tr>\n",
       "  <th>Omnibus:</th>       <td>82.173</td> <th>  Durbin-Watson:     </th> <td>   0.689</td> \n",
       "</tr>\n",
       "<tr>\n",
       "  <th>Prob(Omnibus):</th> <td> 0.000</td> <th>  Jarque-Bera (JB):  </th> <td> 934.337</td> \n",
       "</tr>\n",
       "<tr>\n",
       "  <th>Skew:</th>          <td> 0.224</td> <th>  Prob(JB):          </th> <td>1.29e-203</td>\n",
       "</tr>\n",
       "<tr>\n",
       "  <th>Kurtosis:</th>      <td> 9.642</td> <th>  Cond. No.          </th> <td>1.91e+03</td> \n",
       "</tr>\n",
       "</table>"
      ],
      "text/plain": [
       "<class 'statsmodels.iolib.summary.Summary'>\n",
       "\"\"\"\n",
       "                            OLS Regression Results                            \n",
       "==============================================================================\n",
       "Dep. Variable:                   MEDV   R-squared:                       0.548\n",
       "Model:                            OLS   Adj. R-squared:                  0.547\n",
       "Method:                 Least Squares   F-statistic:                     305.4\n",
       "Date:                Tue, 17 May 2016   Prob (F-statistic):           1.46e-87\n",
       "Time:                        06:32:40   Log-Likelihood:                -1639.1\n",
       "No. Observations:                 506   AIC:                             3284.\n",
       "Df Residuals:                     503   BIC:                             3297.\n",
       "Df Model:                           2                                         \n",
       "Covariance Type:            nonrobust                                         \n",
       "===================================================================================\n",
       "                      coef    std err          t      P>|t|      [95.0% Conf. Int.]\n",
       "-----------------------------------------------------------------------------------\n",
       "Intercept          66.0588     12.104      5.458      0.000        42.278    89.839\n",
       "RM                -22.6433      3.754     -6.031      0.000       -30.019   -15.267\n",
       "np.power(RM, 2)     2.4701      0.291      8.502      0.000         1.899     3.041\n",
       "==============================================================================\n",
       "Omnibus:                       82.173   Durbin-Watson:                   0.689\n",
       "Prob(Omnibus):                  0.000   Jarque-Bera (JB):              934.337\n",
       "Skew:                           0.224   Prob(JB):                    1.29e-203\n",
       "Kurtosis:                       9.642   Cond. No.                     1.91e+03\n",
       "==============================================================================\n",
       "\n",
       "Warnings:\n",
       "[1] Standard Errors assume that the covariance matrix of the errors is correctly specified.\n",
       "[2] The condition number is large, 1.91e+03. This might indicate that there are\n",
       "strong multicollinearity or other numerical problems.\n",
       "\"\"\""
      ]
     },
     "execution_count": 281,
     "metadata": {},
     "output_type": "execute_result"
    }
   ],
   "source": [
    "two = smf.ols(formula='MEDV ~ RM + np.power(RM, 2)', data=boston).fit()\n",
    "twoCoeff = round(two.params[1],2)\n",
    "twoCoeffS = round(two.params[2],2)\n",
    "twoInt = round(two.params[0],2)\n",
    "twoReg = two.predict()\n",
    "two.summary()"
   ]
  },
  {
   "cell_type": "markdown",
   "metadata": {},
   "source": [
    "OBERSVATIONS\n",
    "\n",
    "If we compare the R-squared values we can see that adding number of rooms per house squared increases the value from 0.484 to 0.548. The increase in R-squared is expected because we are fitting the data with a variable we already used (RM). But, we need to be careful of overfitting the data when adding more features because it will not fit new data well."
   ]
  },
  {
   "cell_type": "markdown",
   "metadata": {},
   "source": [
    "### 1.2 Training and testing\n",
    "\n",
    "Chances are, for the above problem you used all of your data to fit the regression line. In some circumstances this is a reasonable thing to do, but often this will result in overfitting. Let's redo the above results the ML way, using careful cross-validation.  Since you are now experts in cross-validation, and have written your own cross-validation algorithm from scratch, you can now take a shortcut and use the libraries that others have built for you.\n",
    "\n",
    "Using the [cross-validation functions](http://scikit-learn.org/stable/modules/cross_validation.html) from scikit-learn, use k-fold cross-validation to fit regression (a) above, i.e. the linear fit of housing price on number of rooms per house. Each fold of cross-validation will give you one slope coefficient and one intercept coefficient.  Plot the distribution of the k slope coefficients, and draw a vertical line at the value of the slope coefficient that you estimated in 1.1 using the full dataset.  What do you observe?"
   ]
  },
  {
   "cell_type": "code",
   "execution_count": 282,
   "metadata": {
    "collapsed": false
   },
   "outputs": [],
   "source": [
    "coeffs = []\n",
    "numF = 100\n",
    "kf = sklearn.cross_validation.KFold(len(boston), n_folds=numF)\n",
    "for train, test in kf:\n",
    "    trainSet = boston.ix[train]\n",
    "    testSet = boston.ix[test]\n",
    "    regr = smf.ols(formula='MEDV ~ RM', data=trainSet).fit()\n",
    "    coeffs.append(regr.params[1])"
   ]
  },
  {
   "cell_type": "code",
   "execution_count": 283,
   "metadata": {
    "collapsed": false
   },
   "outputs": [
    {
     "data": {
      "image/png": "[encoded data removed]",
      "text/plain": [
       "<matplotlib.figure.Figure at 0x11a86ccd0>"
      ]
     },
     "metadata": {},
     "output_type": "display_data"
    }
   ],
   "source": [
    "%matplotlib inline\n",
    "fig, ax = plt.subplots(figsize=(8,8))\n",
    "x = coeffs\n",
    "y = range(1, numF + 1)\n",
    "ax.scatter(x, y, color='blue')\n",
    "ax.spines['right'].set_visible(False)\n",
    "ax.spines['top'].set_visible(False)\n",
    "ax.yaxis.set_ticks_position('left')\n",
    "ax.xaxis.set_ticks_position('bottom')\n",
    "# ax.set_xlim(xmin=-1)\n",
    "ax.set_xlim([8,10])\n",
    "ax.axvline(x=oneCoeff, linewidth=2, color='black')\n",
    "\n",
    "plt.ylabel('k iteration')\n",
    "plt.xlabel('RM slope coefficient')\n",
    "plt.show()"
   ]
  },
  {
   "cell_type": "markdown",
   "metadata": {},
   "source": [
    "OBSERVATION\n",
    "\n",
    "The slope coefficients are pretty close to the vertical line with some variation of course. "
   ]
  },
  {
   "cell_type": "markdown",
   "metadata": {},
   "source": [
    "### 1.3 Regression lines\n",
    "\n",
    "Create a scatterplot of housing price on rooms per house, and add the two regression lines from 1.1 (or 1.2 if you prefer to do so). Show the linear regression line in red, and the linear+quadratic regression line (which may have curvature) in blue.  Label these two regression lines with the corresponding regression equations (i.e. the slope and intercept of the line).\n",
    "\n",
    "Bonus: Add the 95% confidence bands (i.e.,  the area that has a 95% chance of containing the true regression line) to each of these lines."
   ]
  },
  {
   "cell_type": "markdown",
   "metadata": {},
   "source": [
    "\n"
   ]
  },
  {
   "cell_type": "code",
   "execution_count": 284,
   "metadata": {
    "collapsed": false
   },
   "outputs": [
    {
     "data": {
      "image/png": "[encoded data removed]",
      "text/plain": [
       "<matplotlib.figure.Figure at 0x11a88e510>"
      ]
     },
     "metadata": {},
     "output_type": "display_data"
    }
   ],
   "source": [
    "%matplotlib inline\n",
    "fig, ax = plt.subplots(figsize=(8,8))\n",
    "x = boston['RM']\n",
    "y = boston['MEDV']\n",
    "ax.scatter(x, y, color='green')\n",
    "ax.spines['right'].set_visible(False)\n",
    "ax.spines['top'].set_visible(False)\n",
    "ax.yaxis.set_ticks_position('left')\n",
    "ax.xaxis.set_ticks_position('bottom')\n",
    "ax.set_xlim(xmin=-1)\n",
    "oneRegLine = ax.plot(x, oneReg, color='red')\n",
    "twoRegLine = ax.plot(x, twoReg, color='blue')\n",
    "\n",
    "plt.ylabel('Median Housing Value')\n",
    "plt.xlabel('# rooms per house')\n",
    "plt.legend([str(oneCoeff) + 'x + ' + str(oneInt), str(twoCoeffS) + 'x2 + ' + str(twoCoeff) + 'x + ' + str(twoInt)])\n",
    "plt.show()"
   ]
  },
  {
   "cell_type": "markdown",
   "metadata": {},
   "source": [
    "## Part 2: Gradient descent: Linear Regression\n",
    "\n",
    "This is where it gets fun!\n",
    "\n",
    "### 2.1 Implement gradient descent with one independent variable (Average rooms per house)\n",
    "\n",
    "Implement the basic gradient descent algorithm that we discussed in class. Use the version you implement to regress the housing price on the number of rooms per house. Experiment with 3-4 different values of the learning rate *R*, and do the following:\n",
    "\n",
    "* Report the values of alpha and beta that minimize the loss function\n",
    "* Report the number of iterations it takes for your algorithm to converge (for each value of *R*)\n",
    "* Report the total running time of your algorithm, in seconds\n",
    "\n",
    "Some skeleton code is provided below, but you should feel free to delete this code and start from scratch if you prefer.\n",
    "\n",
    "* *Hint 1: Don't forget to implement a stopping condition, so that at every iteration you check whether your results have converged. Common approaches to this are to (a) check to see if the loss has stopped decreasing; and (b) check if both your current parameter esimates are close to the estimates from the previous iteration.  In both cases, \"close\" should not be ==0, it should be <=epsilon, where epsilon is something very small (like 0.0001).*\n",
    "* *Hint 2: Some people like to include a MaxIterations parameter in their gradient descent algorithm, to prevent divergence. *\n",
    "* *Hint 3: R = 0.005 is a reasonable first guess - but try some others to see how it affects your results. *"
   ]
  },
  {
   "cell_type": "code",
   "execution_count": 456,
   "metadata": {
    "collapsed": false
   },
   "outputs": [],
   "source": [
    "import time\n",
    "\n",
    "\"\"\"\n",
    "Function\n",
    "--------\n",
    "bivariate_ols\n",
    "    Gradient Decent to minimize OLS. Used to find co-efficients of bivariate OLS Linear regression\n",
    "\n",
    "Parameters\n",
    "----------\n",
    "xvalues, yvalues : narray\n",
    "    xvalues: independent variable\n",
    "    yvalues: dependent variable\n",
    "    \n",
    "R: float\n",
    "    Learning rate\n",
    "    \n",
    "MaxIterations: Int\n",
    "    maximum number of iterations\n",
    "    \n",
    "\n",
    "Returns\n",
    "-------\n",
    "alpha: float\n",
    "    intercept\n",
    "    \n",
    "beta: float\n",
    "    co-efficient\n",
    "numIter: int\n",
    "    number of iterations ran\n",
    "\"\"\"\n",
    "def bivariate_ols(xvalues, yvalues, R, MaxIterations, e):\n",
    "    start_time = time.time()\n",
    "    alpha = 0\n",
    "    beta = 0\n",
    "    N = len(xvalues)\n",
    "    numIter = 0\n",
    "    close = False\n",
    "    costPrev = (1.0 / (2 * N)) * (np.sum(alpha + beta * xvalues - yvalues) ** 2)\n",
    "    while MaxIterations > 0 and not close:\n",
    "        alpha = alpha - (R / N) * np.sum(alpha + beta * xvalues - yvalues)\n",
    "        beta = beta - (R / N) * np.sum((alpha + beta * xvalues - yvalues) * xvalues)\n",
    "        cost = (1.0 / (2 * N)) * (np.sum(alpha + beta * xvalues - yvalues) ** 2)\n",
    "        close = abs(cost - costPrev) <= e\n",
    "        costPrev = cost\n",
    "        numIter += 1\n",
    "        MaxIterations -= 1\n",
    "\n",
    "    print \"Time taken: \" + str(round(time.time() - start_time,2)) + \" seconds\"\n",
    "    return alpha, beta, numIter"
   ]
  },
  {
   "cell_type": "code",
   "execution_count": 457,
   "metadata": {
    "collapsed": true
   },
   "outputs": [],
   "source": [
    "X = np.array(boston['RM'])\n",
    "Y = np.array(boston['MEDV'])"
   ]
  },
  {
   "cell_type": "code",
   "execution_count": 458,
   "metadata": {
    "collapsed": false
   },
   "outputs": [
    {
     "name": "stdout",
     "output_type": "stream",
     "text": [
      "Time taken: 0.73 seconds\n",
      "(-33.619927856099181, 8.9369542970990032, 28931)\n"
     ]
    }
   ],
   "source": [
    "# R = 0.01\n",
    "print bivariate_ols(X, Y, 0.01, 100000, 0.00001)"
   ]
  },
  {
   "cell_type": "code",
   "execution_count": 288,
   "metadata": {
    "collapsed": false
   },
   "outputs": [
    {
     "name": "stdout",
     "output_type": "stream",
     "text": [
      "Time taken: 1.29 seconds\n",
      "(-33.173706881458131, 8.8668004008399421, 52285)\n"
     ]
    }
   ],
   "source": [
    "# R = 0.005\n",
    "print bivariate_ols(X, Y, 0.005, 100000, 0.00001)"
   ]
  },
  {
   "cell_type": "code",
   "execution_count": 289,
   "metadata": {
    "collapsed": false
   },
   "outputs": [
    {
     "name": "stdout",
     "output_type": "stream",
     "text": [
      "Time taken: 0.01 seconds\n",
      "(0.43759643303959861, 3.5829650199082246, 291)\n"
     ]
    }
   ],
   "source": [
    "# R = 0.001\n",
    "print bivariate_ols(X, Y, 0.001, 100000, 0.00001)"
   ]
  },
  {
   "cell_type": "code",
   "execution_count": 290,
   "metadata": {
    "collapsed": false
   },
   "outputs": [
    {
     "name": "stdout",
     "output_type": "stream",
     "text": [
      "Time taken: 0.21 seconds\n",
      "(-34.228073037743847, 9.0325811169246251, 6929)\n"
     ]
    }
   ],
   "source": [
    "# R = 0.05\n",
    "print bivariate_ols(X, Y, 0.05, 100000, 0.00001)"
   ]
  },
  {
   "cell_type": "markdown",
   "metadata": {},
   "source": [
    "OBSERVATION\n",
    "\n",
    "We se that using a R of 0.05 we get the most accurate slope and coefficient values compared to 1.1 with some of the quickest time. Interestingly, using very small values of R yields very innacurate values and a low number of iterations. This is most likely due to the way I wrote the code and because R is so small, the function we're trying to minimize changes by very little so we get a difference of less than epsilon quicker than we get accurate slope/coefficient values."
   ]
  },
  {
   "cell_type": "markdown",
   "metadata": {},
   "source": [
    "### 2.2 Data normalization\n",
    "\n",
    "Soon, you will implement a version of gradient descent that can use an arbitrary number of independent variables. Before doing this, however, you should re-scale your features to ensure that no single feature dominates the cost function. Write a simple function to [standardize](http://en.wikipedia.org/wiki/Standard_score) a feature. * This is done for you!*"
   ]
  },
  {
   "cell_type": "code",
   "execution_count": 291,
   "metadata": {
    "collapsed": false
   },
   "outputs": [],
   "source": [
    "def standardize(raw_data):\n",
    "    return ((raw_data - np.mean(raw_data, axis = 0)) / np.std(raw_data, axis = 0))"
   ]
  },
  {
   "cell_type": "markdown",
   "metadata": {},
   "source": [
    "### 2.3 Implement gradient descent with an arbitrary number of independent variables\n",
    "\n",
    "Now that you have a simple version of gradient descent working, create a version of gradient descent that can take more than one independent variable.  Assume all independent variables will be continuous.  Test your algorithm using CRIM and RM as independent variables. Standardize these variables before before inputting them to the gradient descent algorithm. \n",
    "\n",
    "As before,  report and interpret your estimated coefficients, the number of iterations before convergence, and the total running time of your algorithm. Experiment with 2-3 different values of R.\n",
    "\n",
    "* *Hint 1: Be careful to implement this efficiently, otherwise it might take a long time for your code to run. Commands like `np.dot` can be a good friend to you on this problem - see 2.2 above for an example.*"
   ]
  },
  {
   "cell_type": "code",
   "execution_count": 453,
   "metadata": {
    "collapsed": false
   },
   "outputs": [],
   "source": [
    "\"\"\"\n",
    "Function\n",
    "--------\n",
    "multivariate_ols\n",
    "    Gradient Decent to minimize OLS. Used to find co-efficients of bivariate OLS Linear regression\n",
    "\n",
    "Parameters\n",
    "----------\n",
    "xvalues, yvalues : narray\n",
    "    xvalues: independent variable\n",
    "    yvalues: dependent variable\n",
    "    \n",
    "R: float\n",
    "    Learning rate\n",
    "    \n",
    "MaxIterations: Int\n",
    "    maximum number of iterations\n",
    "    \n",
    "\n",
    "Returns\n",
    "-------\n",
    "alpha: float\n",
    "    intercept\n",
    "    \n",
    "beta_array: array[float]\n",
    "    co-efficient\n",
    "\"\"\"\n",
    "\n",
    "def multivariate_ols(xvalues, yvalues, R, MaxIterations, e):\n",
    "    start_time = time.time()\n",
    "    alpha = 0\n",
    "    beta_array = np.zeros(xvalues.shape[1])\n",
    "    N = xvalues.shape[0]\n",
    "    numIter = 0\n",
    "    close = False\n",
    "    costPrev = (1.0 / (2 * N)) * (np.sum(alpha + np.dot(beta_array, xvalues.T) - yvalues) ** 2)\n",
    "    while MaxIterations > 0 and not close:\n",
    "        alpha = alpha - (R / N) * np.sum(alpha + np.dot(beta_array, xvalues.T) - yvalues)\n",
    "        beta_array = beta_array - (R / N) * np.sum(np.dot(alpha + np.dot(beta_array, xvalues.T) - yvalues, xvalues))\n",
    "        cost = (1.0 / (2 * N)) * (np.sum(alpha + np.dot(beta_array, xvalues.T) - yvalues) ** 2)\n",
    "        close = abs(cost - costPrev) <= e\n",
    "        costPrev = cost\n",
    "        numIter += 1\n",
    "        MaxIterations -= 1\n",
    "    print \"Time taken: \" + str(round(time.time() - start_time,2)) + \" seconds\"\n",
    "    return alpha, beta_array, numIter"
   ]
  },
  {
   "cell_type": "code",
   "execution_count": 454,
   "metadata": {
    "collapsed": false
   },
   "outputs": [],
   "source": [
    "XX = np.array(boston[['RM', 'CRIM']])"
   ]
  },
  {
   "cell_type": "code",
   "execution_count": 455,
   "metadata": {
    "collapsed": false
   },
   "outputs": [
    {
     "name": "stdout",
     "output_type": "stream",
     "text": [
      "Time taken: 0.0 seconds\n",
      "(22.532413646386306, array([ 1.82290361,  1.82290361]), 104)\n"
     ]
    }
   ],
   "source": [
    "print multivariate_ols(standardize(XX), Y, 0.1, 100000, 0.00001)"
   ]
  },
  {
   "cell_type": "code",
   "execution_count": 295,
   "metadata": {
    "collapsed": false
   },
   "outputs": [
    {
     "name": "stdout",
     "output_type": "stream",
     "text": [
      "Time taken: 0.05 seconds\n",
      "(22.531423464569595, array([ 1.82290318,  1.82290318]), 965)\n"
     ]
    }
   ],
   "source": [
    "print multivariate_ols(standardize(XX), Y, 0.01, 100000, 0.00001)"
   ]
  },
  {
   "cell_type": "code",
   "execution_count": 296,
   "metadata": {
    "collapsed": false
   },
   "outputs": [
    {
     "name": "stdout",
     "output_type": "stream",
     "text": [
      "Time taken: 0.3 seconds\n",
      "(22.528367183771962, array([ 1.82290064,  1.82290064]), 8528)\n"
     ]
    }
   ],
   "source": [
    "print multivariate_ols(standardize(XX), Y, 0.001, 100000, 0.00001)"
   ]
  },
  {
   "cell_type": "code",
   "execution_count": 297,
   "metadata": {
    "collapsed": false
   },
   "outputs": [
    {
     "name": "stdout",
     "output_type": "stream",
     "text": [
      "Time taken: 2.26 seconds\n",
      "(22.518750194167655, array([ 1.82288543,  1.82288543]), 73793)\n"
     ]
    }
   ],
   "source": [
    "print multivariate_ols(standardize(XX), Y, 0.0001, 100000, 0.00001)"
   ]
  },
  {
   "cell_type": "markdown",
   "metadata": {},
   "source": [
    "OBSERVATIONS\n",
    "\n",
    "All runs of the standardized x values (RM, CRIM) with varying learning rates, R, yeilded very similar alpha and beta array values. Larger learning rate values were much quicker due to less iterations and smaller R values took longer due to more iterations. I can't speak for what the impacts of standardization were because I have not yet looked at it with unstandardized data."
   ]
  },
  {
   "cell_type": "markdown",
   "metadata": {},
   "source": [
    "### 2.4 Compare standardized vs. non-standardized results\n",
    "\n",
    "Repeat the analysis from 2.3, but this time do not standardize your variables - i.e., use the original data. Use the same three values of R (0.1, 0.01, and 0.001). What do you notice about the running time and convergence properties of your algorithm?"
   ]
  },
  {
   "cell_type": "code",
   "execution_count": 298,
   "metadata": {
    "collapsed": false
   },
   "outputs": [
    {
     "name": "stdout",
     "output_type": "stream",
     "text": [
      "R=0.1\n",
      "Time taken: 4.42 seconds\n",
      "(nan, array([ nan,  nan]), 100000)\n",
      "\n",
      "R=0.01\n",
      "Time taken: 0.08 seconds\n",
      "(26.109522985884578, array([-0.36229228, -0.36229228]), 2010)\n",
      "\n",
      "R=0.001\n",
      "Time taken: 0.58 seconds\n",
      "(26.098382030904848, array([-0.36163929, -0.36163929]), 17489)\n",
      "\n",
      "R=0.0001\n",
      "Time taken: 3.46 seconds\n",
      "(25.73097998789202, array([-0.34013396, -0.34013396]), 100000)\n"
     ]
    }
   ],
   "source": [
    "print 'R=0.1'\n",
    "print multivariate_ols(XX, Y, 0.1, 100000, 0.00001)\n",
    "print\n",
    "print 'R=0.01'\n",
    "print multivariate_ols(XX, Y, 0.01, 100000, 0.00001)\n",
    "print\n",
    "print 'R=0.001'\n",
    "print multivariate_ols(XX, Y, 0.001, 100000, 0.00001)\n",
    "print\n",
    "print 'R=0.0001'\n",
    "print multivariate_ols(XX, Y, 0.0001, 100000, 0.00001)"
   ]
  },
  {
   "cell_type": "markdown",
   "metadata": {},
   "source": [
    "OBSERVATIONS\n",
    "\n",
    "Right away we see for R=0.1 that the algorithim probably overshot the minimum and never converges even after 100,000 iterations. The runtime of R=0.01, 0.001 are roughly twice as long as it is using the standardized data. We see a difference in convergence for the alpha values which were around 22.53 but are now 26.1 and different beta values as well. We expect difference values of convergence because 'CRIM' values have a much higher range than 'RM' and it would not be accurately represented within the cost function as 'CRIM' would have more weight than 'RM'."
   ]
  },
  {
   "cell_type": "markdown",
   "metadata": {},
   "source": [
    "## 3. Prediction\n",
    "\n",
    "Let's use our fitted model to make predictions about housing prices. Since the focus is now on prediction rather than the interpretation of the coefficients, make sure to use the standardized version of your features in everything that follows.\n",
    "\n",
    "### 3.1 Cross-Validation\n",
    "\n",
    "Unless you were careful above, you probably overfit your data again.  Use 10-fold cross-validation to re-fit the multivariate regression from 2.3 above, and report your estimated coefficients (there should be three coefficients for each fold, corresponding to the intercept and the two coefficients for CRIM and RM). \n",
    "\n",
    "How do your estimated coefficients from cross-validation compare to the ones you estimated in 2.3 above? How do they compare to the ones estimated using standard packages?"
   ]
  },
  {
   "cell_type": "code",
   "execution_count": 302,
   "metadata": {
    "collapsed": false
   },
   "outputs": [
    {
     "name": "stdout",
     "output_type": "stream",
     "text": [
      "Time taken: 0.28 seconds\n",
      "Time taken: 0.26 seconds\n",
      "Time taken: 0.3 seconds\n",
      "Time taken: 0.28 seconds\n",
      "Time taken: 0.29 seconds\n",
      "Time taken: 0.27 seconds\n",
      "Time taken: 0.27 seconds\n",
      "Time taken: 0.28 seconds\n",
      "Time taken: 0.27 seconds\n",
      "Time taken: 0.28 seconds\n",
      "[[ 22.75751634   1.76883939   1.76883939]\n",
      " [ 22.3282857    1.81923496   1.81923496]\n",
      " [ 23.02674826   1.76482941   1.76482941]\n",
      " [ 21.55312231   1.40124746   1.40124746]\n",
      " [ 21.94499041   1.58476742   1.58476742]\n",
      " [ 21.53356143   1.36260822   1.36260822]\n",
      " [ 22.60321701   1.83476313   1.83476313]\n",
      " [ 23.08676893   2.46486851   2.46486851]\n",
      " [ 23.50628649   2.34189875   2.34189875]\n",
      " [ 22.93633283   1.85707023   1.85707023]]\n"
     ]
    }
   ],
   "source": [
    "numF = 10\n",
    "coeffs31 = np.empty([numF, 3])\n",
    "kf = sklearn.cross_validation.KFold(len(Y), n_folds=numF)\n",
    "count = 0\n",
    "for train, test in kf:\n",
    "    trainSet = boston.ix[train]\n",
    "    Y31 = np.array(trainSet['MEDV'])\n",
    "    XX31 = standardize(np.array(trainSet[['RM', 'CRIM']]))\n",
    "    a, b, i = multivariate_ols(XX31, Y31, 0.001, 100000, 0.00001)\n",
    "    coeffs31[count][0] = a\n",
    "    coeffs31[count][1] = b[0]\n",
    "    coeffs31[count][2] = b[1]\n",
    "    count += 1\n",
    "print coeffs31"
   ]
  },
  {
   "cell_type": "markdown",
   "metadata": {},
   "source": [
    "OBSERVATIONS\n",
    "\n",
    "In general, the alpha values and the values of the beta arrays after 10-fold CV are comparable to the values we got in 2.3. There is of course some variation in the data with high alphas of 23.5 and lows of 21.5 and high betas of 2.46 and low betas of 1.4 but this is expected because we're only using 90% of the data as training data per fold."
   ]
  },
  {
   "cell_type": "markdown",
   "metadata": {},
   "source": [
    "### 3.2 Predicted values and RMSE\n",
    "\n",
    "Let's figure out how accurate this predictive model turned out to be. Report the average 10-fold cross-validated RMSE, separately for the training data and for the testing data. \n",
    "\n",
    "In other words, run 10-fold cross-validation. In each of the 10 iterations, you will fit a model on 90% of the data. Use that model to generate predicted outputs for 100% of the data. For that iteration, the training RMSE is the RMSE calculated across the (90%) training data, and the test RMSE is the RMSE calculated across the (10%) test data. The average 10-fold cross-validated RMSE is the average of the 10 iterations.\n",
    "\n",
    "What is your test RMSE?  How does it compare to the performance of your nearest neighbor algorithm from the last problem set?"
   ]
  },
  {
   "cell_type": "code",
   "execution_count": 304,
   "metadata": {
    "collapsed": false
   },
   "outputs": [],
   "source": [
    "def compute_rmse(predictions, yvalues):\n",
    "    rmse = 0.0\n",
    "    for pre, yval in zip(predictions, yvalues):\n",
    "        rmse += (pre - yval) ** 2\n",
    "    rmse /= len(predictions)\n",
    "    return (rmse ** 0.5)"
   ]
  },
  {
   "cell_type": "code",
   "execution_count": 309,
   "metadata": {
    "collapsed": false
   },
   "outputs": [
    {
     "name": "stdout",
     "output_type": "stream",
     "text": [
      "Time taken: 0.28 seconds\n",
      "Time taken: 0.19 seconds\n",
      "Time taken: 0.29 seconds\n",
      "Time taken: 0.21 seconds\n",
      "Time taken: 0.29 seconds\n",
      "Time taken: 0.19 seconds\n",
      "Time taken: 0.3 seconds\n",
      "Time taken: 0.22 seconds\n",
      "Time taken: 0.3 seconds\n",
      "Time taken: 0.21 seconds\n",
      "Time taken: 0.5 seconds\n",
      "Time taken: 0.49 seconds\n",
      "Time taken: 0.42 seconds\n",
      "Time taken: 0.51 seconds\n",
      "Time taken: 0.74 seconds\n",
      "Time taken: 0.41 seconds\n",
      "Time taken: 0.34 seconds\n",
      "Time taken: 0.27 seconds\n",
      "Time taken: 0.27 seconds\n",
      "Time taken: 0.19 seconds\n",
      "RMSE: 4.15123978092\n"
     ]
    }
   ],
   "source": [
    "numF = 10\n",
    "cumRMSE = []\n",
    "kf = sklearn.cross_validation.KFold(len(Y), n_folds=numF)\n",
    "count = 0\n",
    "for train, test in kf:\n",
    "    trainSet32 = boston.ix[train]\n",
    "    testSet32 = boston.ix[test]\n",
    "    Y32 = np.array(trainSet32['MEDV'])\n",
    "    XX32 = standardize(np.array(trainSet32[['RM', 'CRIM']]))\n",
    "    a, b, i = multivariate_ols(XX32, Y32, 0.001, 100000, 0.00001)\n",
    "    Y32t = np.array(testSet32['MEDV'])\n",
    "    XX32t = standardize(np.array(testSet32[['RM', 'CRIM']]))\n",
    "    at, bt, it = multivariate_ols(XX32t, Y32t, 0.001, 100000, 0.00001)\n",
    "    cumRMSE.append(compute_rmse([at, bt], [a, b]))\n",
    "    count += 1\n",
    "print 'RMSE: ' + str(np.mean(cumRMSE))"
   ]
  },
  {
   "cell_type": "markdown",
   "metadata": {},
   "source": [
    "OBSERVATIONS\n",
    "\n",
    "The RMSE value was 4.15. This is much lower than what I had for my KNN algorithim but I'm pretty sure the algorithm wasn't 100% correct. Regardless, the RMSE is a lot lower than I had previously expected."
   ]
  },
  {
   "cell_type": "markdown",
   "metadata": {},
   "source": [
    "### Extra Credit: Logistic Regression\n",
    "\n",
    "For extra credit, implement logistic regression using gradient descent. Create a new variable (EXPENSIVE) to indicate whether the median housing price is more than $400,000. Use your model  a logistic regression of EXPENSIVE on CHAS and RM. Report your results."
   ]
  },
  {
   "cell_type": "code",
   "execution_count": null,
   "metadata": {
    "collapsed": false
   },
   "outputs": [],
   "source": [
    "# Your code here"
   ]
  },
  {
   "cell_type": "markdown",
   "metadata": {},
   "source": [
    "*Discuss your results here*"
   ]
  },
  {
   "cell_type": "markdown",
   "metadata": {},
   "source": [
    "## 4 Regularization \n",
    "\n",
    "### 4.1 Get prepped\n",
    "\n",
    "Step 1: For each of the continuous features F in the original dataset, create a standardized version F_1.  Now, create polynomials up to degree 6 of each F_1: the square of F_1 (call this F_2); the cube of F_1 (call this F_3); and so forth up to F_6. If you originally had *K* features, you should now have *6K* features (i.e., we're going to ignore the original unscaled features for the remainder of this problem).\n",
    "\n",
    "Step 2: For simplicity, generate a single training and testing set.  Randomly sample 66% of your data and call this the training set, and set aside the remaining 34% as your test set."
   ]
  },
  {
   "cell_type": "code",
   "execution_count": 440,
   "metadata": {
    "collapsed": false
   },
   "outputs": [
    {
     "data": {
      "text/html": [
       "<div>\n",
       "<table border=\"1\" class=\"dataframe\">\n",
       "  <thead>\n",
       "    <tr style=\"text-align: right;\">\n",
       "      <th></th>\n",
       "      <th>CRIM</th>\n",
       "      <th>INDUS</th>\n",
       "      <th>NOX</th>\n",
       "      <th>RM</th>\n",
       "      <th>AGE</th>\n",
       "      <th>DIS</th>\n",
       "      <th>TAX</th>\n",
       "      <th>PTRATIO</th>\n",
       "      <th>B</th>\n",
       "      <th>LSTAT</th>\n",
       "    </tr>\n",
       "  </thead>\n",
       "  <tbody>\n",
       "    <tr>\n",
       "      <th>0</th>\n",
       "      <td>0.00632</td>\n",
       "      <td>2.31</td>\n",
       "      <td>0.538</td>\n",
       "      <td>6.575</td>\n",
       "      <td>65.2</td>\n",
       "      <td>4.0900</td>\n",
       "      <td>296</td>\n",
       "      <td>15.3</td>\n",
       "      <td>396.90</td>\n",
       "      <td>4.98</td>\n",
       "    </tr>\n",
       "    <tr>\n",
       "      <th>1</th>\n",
       "      <td>0.02731</td>\n",
       "      <td>7.07</td>\n",
       "      <td>0.469</td>\n",
       "      <td>6.421</td>\n",
       "      <td>78.9</td>\n",
       "      <td>4.9671</td>\n",
       "      <td>242</td>\n",
       "      <td>17.8</td>\n",
       "      <td>396.90</td>\n",
       "      <td>9.14</td>\n",
       "    </tr>\n",
       "    <tr>\n",
       "      <th>2</th>\n",
       "      <td>0.02729</td>\n",
       "      <td>7.07</td>\n",
       "      <td>0.469</td>\n",
       "      <td>7.185</td>\n",
       "      <td>61.1</td>\n",
       "      <td>4.9671</td>\n",
       "      <td>242</td>\n",
       "      <td>17.8</td>\n",
       "      <td>392.83</td>\n",
       "      <td>4.03</td>\n",
       "    </tr>\n",
       "    <tr>\n",
       "      <th>3</th>\n",
       "      <td>0.03237</td>\n",
       "      <td>2.18</td>\n",
       "      <td>0.458</td>\n",
       "      <td>6.998</td>\n",
       "      <td>45.8</td>\n",
       "      <td>6.0622</td>\n",
       "      <td>222</td>\n",
       "      <td>18.7</td>\n",
       "      <td>394.63</td>\n",
       "      <td>2.94</td>\n",
       "    </tr>\n",
       "    <tr>\n",
       "      <th>4</th>\n",
       "      <td>0.06905</td>\n",
       "      <td>2.18</td>\n",
       "      <td>0.458</td>\n",
       "      <td>7.147</td>\n",
       "      <td>54.2</td>\n",
       "      <td>6.0622</td>\n",
       "      <td>222</td>\n",
       "      <td>18.7</td>\n",
       "      <td>396.90</td>\n",
       "      <td>5.33</td>\n",
       "    </tr>\n",
       "  </tbody>\n",
       "</table>\n",
       "</div>"
      ],
      "text/plain": [
       "      CRIM  INDUS    NOX     RM   AGE     DIS  TAX  PTRATIO       B  LSTAT\n",
       "0  0.00632   2.31  0.538  6.575  65.2  4.0900  296     15.3  396.90   4.98\n",
       "1  0.02731   7.07  0.469  6.421  78.9  4.9671  242     17.8  396.90   9.14\n",
       "2  0.02729   7.07  0.469  7.185  61.1  4.9671  242     17.8  392.83   4.03\n",
       "3  0.03237   2.18  0.458  6.998  45.8  6.0622  222     18.7  394.63   2.94\n",
       "4  0.06905   2.18  0.458  7.147  54.2  6.0622  222     18.7  396.90   5.33"
      ]
     },
     "execution_count": 440,
     "metadata": {},
     "output_type": "execute_result"
    }
   ],
   "source": [
    "newBoston = boston\n",
    "newBoston = newBoston.drop(['CHAS', 'RAD', 'ZN', 'MEDV'], axis=1)\n",
    "newBoston.head()"
   ]
  },
  {
   "cell_type": "code",
   "execution_count": 441,
   "metadata": {
    "collapsed": false
   },
   "outputs": [],
   "source": [
    "df = pd.DataFrame()\n",
    "for name in newBoston.columns.values:\n",
    "    for i in range(1, 7):\n",
    "        df[name + '_' + str(i)] = np.power(newBoston[name], i)\n",
    "df['MEDV'] = boston['MEDV']"
   ]
  },
  {
   "cell_type": "code",
   "execution_count": 446,
   "metadata": {
    "collapsed": false
   },
   "outputs": [],
   "source": [
    "from sklearn.cross_validation import train_test_split\n",
    "df_train, df_test = train_test_split(df, test_size=0.34)"
   ]
  },
  {
   "cell_type": "markdown",
   "metadata": {},
   "source": [
    "### 4.2 Let's overfit!\n",
    "Now, using your version of multivariate regression from 2.3, (over)fit your model on the training data. Using your training set, regress housing price on as many of those *6K* features as you can.  If you get too greedy, or if you did not efficiently implement your solution to 2.3, it's possible this will take a long time to compute.\n",
    "\n",
    "Report the RMSE when you apply your model to your training set and to your testing set. How do these numbers compare to each other, and to the RMSE from 2.5 and nearest neighbors?"
   ]
  },
  {
   "cell_type": "code",
   "execution_count": 406,
   "metadata": {
    "collapsed": false
   },
   "outputs": [
    {
     "data": {
      "text/plain": [
       "array(['CRIM_1', 'CRIM_2', 'CRIM_3', 'CRIM_4', 'CRIM_5', 'CRIM_6',\n",
       "       'INDUS_1', 'INDUS_2', 'INDUS_3', 'INDUS_4', 'INDUS_5', 'INDUS_6',\n",
       "       'NOX_1', 'NOX_2', 'NOX_3', 'NOX_4', 'NOX_5', 'NOX_6', 'RM_1',\n",
       "       'RM_2', 'RM_3', 'RM_4', 'RM_5', 'RM_6', 'AGE_1', 'AGE_2', 'AGE_3',\n",
       "       'AGE_4', 'AGE_5', 'AGE_6', 'DIS_1', 'DIS_2', 'DIS_3', 'DIS_4',\n",
       "       'DIS_5', 'DIS_6', 'TAX_1', 'TAX_2', 'TAX_3', 'TAX_4', 'TAX_5',\n",
       "       'TAX_6', 'PTRATIO_1', 'PTRATIO_2', 'PTRATIO_3', 'PTRATIO_4',\n",
       "       'PTRATIO_5', 'PTRATIO_6', 'B_1', 'B_2', 'B_3', 'B_4', 'B_5', 'B_6',\n",
       "       'LSTAT_1', 'LSTAT_2', 'LSTAT_3', 'LSTAT_4', 'LSTAT_5', 'LSTAT_6',\n",
       "       'MEDV'], dtype=object)"
      ]
     },
     "execution_count": 406,
     "metadata": {},
     "output_type": "execute_result"
    }
   ],
   "source": [
    "df.columns.values"
   ]
  },
  {
   "cell_type": "code",
   "execution_count": 422,
   "metadata": {
    "collapsed": false
   },
   "outputs": [
    {
     "name": "stdout",
     "output_type": "stream",
     "text": [
      "Time taken: 0.45 seconds\n",
      "Time taken: 0.35 seconds\n",
      "RMSE: 0.233801210897\n"
     ]
    }
   ],
   "source": [
    "Y42 = np.array(df_train['MEDV'])\n",
    "XX42 = standardize(np.array(df_train.drop(['MEDV'], axis=1)))\n",
    "a, b, i = multivariate_ols(XX42, Y42, 0.001, 100000, 0.00001)\n",
    "\n",
    "Y42t = np.array(df_test['MEDV'])\n",
    "XX42t = standardize(np.array(df_test.drop(['MEDV'], axis=1)))\n",
    "at, bt, it = multivariate_ols(XX42t, Y42t, 0.001, 100000, 0.00001)\n",
    "print 'RMSE: ' + str(compute_rmse([a, b[0], b[1]], [at, bt[0], bt[1]]))"
   ]
  },
  {
   "cell_type": "markdown",
   "metadata": {},
   "source": [
    "OBSERVATIONS\n",
    "\n",
    "I'm not sure if we're supposed to standardize the feature data or not. I feel like we weren't supposed to but I couldn't get beyond 2 degrees without all my alpha/beta values being NaN no matter what R, MaxIteration, or e values I passed in to the multivariate_ols function. That being said, using standardized features yielded a RMSE of 0.233. I feel as though the RMSE SHOULD be low because we are purposely overfitting the data, meaning there should be a much lower amount of error between the training and test data. Obviously overfitting data is bad because it does not generalize well to more data, but I'm thinking(hoping) that that is the point of 4.2."
   ]
  },
  {
   "cell_type": "markdown",
   "metadata": {},
   "source": [
    "### 4.3 Ridge regularization\n",
    "Incorporate L2 (Ridge) regularization into your multivariate_ols regression. Write a new version of your gradient descent algorithm that includes a regularization term \"lambda\" to penalize excessive complexity. \n",
    "\n",
    "Use your regularized regression to re-fit the model from 4.2 above on your training data. Try this for several different values of lambda, and report your RMSE for each lambda separately for your training and testing data. How do these numbers compare to each other, to the RMSE from 4.2,  to the RMSE from 2.3, and to the RMSE from nearest neighbors?\n",
    "\n",
    "Go brag to your friends about how you just implemented ridge-regularized multivariate regression using gradient descent optimization, from scratch. If you still have friends."
   ]
  },
  {
   "cell_type": "code",
   "execution_count": 451,
   "metadata": {
    "collapsed": false
   },
   "outputs": [],
   "source": [
    "def ridge_reg(xvalues, yvalues, R, MaxIterations, e, l):\n",
    "    start_time = time.time()\n",
    "    alpha = 0\n",
    "    beta_array = np.zeros(xvalues.shape[1])\n",
    "    N = xvalues.shape[0]\n",
    "    numIter = 0\n",
    "    close = False\n",
    "    costPrev = (1.0 / (2 * N)) * (np.sum(alpha + np.dot(beta_array, xvalues.T) - yvalues) ** 2) + l * np.sum(beta_array**2)\n",
    "    while MaxIterations > 0 and not close:\n",
    "        alpha = alpha - (R / N) * np.sum(alpha + np.dot(beta_array, xvalues.T) - yvalues)\n",
    "        beta_array = beta_array * (1.0 - R * l / N) - (R / N) * np.sum(np.dot(alpha + np.dot(beta_array, xvalues.T) - yvalues, xvalues))\n",
    "        cost = (1.0 / (2 * N)) * (np.sum(alpha + np.dot(beta_array, xvalues.T) - yvalues) ** 2) + l * np.sum(beta_array**2)\n",
    "        close = abs(cost - costPrev) <= e\n",
    "        costPrev = cost\n",
    "        numIter += 1\n",
    "        MaxIterations -= 1\n",
    "    print \"Time taken: \" + str(round(time.time() - start_time,2)) + \" seconds\"\n",
    "    return alpha, beta_array, numIter"
   ]
  },
  {
   "cell_type": "code",
   "execution_count": 452,
   "metadata": {
    "collapsed": false
   },
   "outputs": [
    {
     "name": "stdout",
     "output_type": "stream",
     "text": [
      "Time taken: 0.5 seconds\n",
      "Time taken: 0.43 seconds\n",
      "RMSE: 0.13869012182\n"
     ]
    }
   ],
   "source": [
    "Y43 = np.array(df_train['MEDV'])\n",
    "XX43 = standardize(np.array(df_train.drop(['MEDV'], axis=1)))\n",
    "a, b, i = ridge_reg(XX43, Y43, 0.001, 100000, 0.00001, 10000)\n",
    "\n",
    "Y43t = np.array(df_test['MEDV'])\n",
    "XX43t = standardize(np.array(df_test.drop(['MEDV'], axis=1)))\n",
    "at, bt, it = ridge_reg(XX43t, Y43t, 0.001, 100000, 0.00001, 10000)\n",
    "print 'RMSE: ' + str(compute_rmse([a, b[0], b[1]], [at, bt[0], bt[1]]))"
   ]
  },
  {
   "cell_type": "markdown",
   "metadata": {},
   "source": [
    "OBSERVATIONS\n",
    "\n",
    "Using a high lambda value yields a higher RMSE. I'm not exactly sure what the \"range\" of lambda can be."
   ]
  },
  {
   "cell_type": "markdown",
   "metadata": {},
   "source": [
    "### Extra Credit 2: Cross-validate lambda\n",
    "\n",
    "Use k-fold cross-validation to select the optimal value of lambda. Report the average RMSE across all training sets, and the average RMSE across all testing sets. How do these numbers compare to each other, to the RMSE from your previous efforts?  Finally, create a scatter plot that shows RMSE as a function of lambda."
   ]
  },
  {
   "cell_type": "code",
   "execution_count": null,
   "metadata": {
    "collapsed": false
   },
   "outputs": [],
   "source": [
    "# Your code here"
   ]
  },
  {
   "cell_type": "markdown",
   "metadata": {},
   "source": [
    "*Discuss your results here*"
   ]
  },
  {
   "cell_type": "markdown",
   "metadata": {},
   "source": [
    "### (Showoff) Extra Credit 3: Lambda and coefficients\n",
    "\n",
    "If you're feeling extra-special, create a parameter plot that shows how the different coefficient estimates change as a function of lambda. To make this graph intelligible, only include the *K* original F_s features in this plot."
   ]
  },
  {
   "cell_type": "code",
   "execution_count": null,
   "metadata": {
    "collapsed": false
   },
   "outputs": [],
   "source": [
    "# Your code here"
   ]
  },
  {
   "cell_type": "markdown",
   "metadata": {},
   "source": [
    "*Discuss your results here*"
   ]
  }
 ],
 "metadata": {
  "kernelspec": {
   "display_name": "Python 2",
   "language": "python",
   "name": "python2"
  },
  "language_info": {
   "codemirror_mode": {
    "name": "ipython",
    "version": 2
   },
   "file_extension": ".py",
   "mimetype": "text/x-python",
   "name": "python",
   "nbconvert_exporter": "python",
   "pygments_lexer": "ipython2",
   "version": "2.7.11"
  }
 },
 "nbformat": 4,
 "nbformat_minor": 0
}
