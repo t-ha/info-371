{
 "cells": [
  {
   "cell_type": "markdown",
   "metadata": {},
   "source": [
    "# Lab 3: Hypothesis Testing and Regression in Python\n",
    "\n",
    "- **Author:** Li Zeng ([lizeng@uw.edu](mailto:lizeng@uw.edu))\n",
    "- **Date:** 11 April 2016\n",
    "- **Course:** INFO 371: Core Methods in Data Science"
   ]
  },
  {
   "cell_type": "markdown",
   "metadata": {},
   "source": [
    "### Learning Objectives:\n",
    "By the end of the lab, you will be able to:\n",
    "\n",
    "* feel comfortably designing formulas for linear regression modeling\n",
    "* work comfortably with statsmodels library \n",
    "* create basic visualization of regression model"
   ]
  },
  {
   "cell_type": "markdown",
   "metadata": {},
   "source": [
    "### Topics:\n",
    "1. T-tests\n",
    "2. Univariate regression\n",
    "3. Multivariate regressions\n",
    "4. statsmodels\n",
    "5. Producing regression tables\n",
    "6. scikit-learn\n",
    "7. seaborn"
   ]
  },
  {
   "cell_type": "markdown",
   "metadata": {},
   "source": [
    "### References: \n",
    " * [Scikit Learn Linear Models](http://scikit-learn.org/stable/modules/linear_model.html)\n",
    " * [Statsmodels](http://statsmodels.sourceforge.net/stable/index.html)\n",
    " * [Introduction to Statistical Learning, Lab #2](http://www-bcf.usc.edu/~gareth/ISL/Chapter%203%20Lab.txt)"
   ]
  },
  {
   "cell_type": "markdown",
   "metadata": {},
   "source": [
    "### Import libraries"
   ]
  },
  {
   "cell_type": "code",
   "execution_count": 17,
   "metadata": {
    "collapsed": true
   },
   "outputs": [],
   "source": [
    "import pandas as pd\n",
    "import numpy as np\n",
    "import matplotlib.pyplot as plt  \n",
    "%matplotlib inline  "
   ]
  },
  {
   "cell_type": "markdown",
   "metadata": {},
   "source": [
    "** Introduce new packages - statsmodels and scipy.stats**"
   ]
  },
  {
   "cell_type": "code",
   "execution_count": 18,
   "metadata": {
    "collapsed": false
   },
   "outputs": [],
   "source": [
    "import statsmodels\n",
    "import statsmodels.api as sm\n",
    "import statsmodels.formula.api as smf\n",
    "import scipy.stats as stats"
   ]
  },
  {
   "cell_type": "markdown",
   "metadata": {},
   "source": [
    "### Import Boston Housing data"
   ]
  },
  {
   "cell_type": "code",
   "execution_count": 19,
   "metadata": {
    "collapsed": true
   },
   "outputs": [],
   "source": [
    "from sklearn.datasets import load_boston\n",
    "bdata = load_boston()"
   ]
  },
  {
   "cell_type": "markdown",
   "metadata": {},
   "source": [
    "** Take a glance at the shape of data **"
   ]
  },
  {
   "cell_type": "code",
   "execution_count": 20,
   "metadata": {
    "collapsed": false
   },
   "outputs": [
    {
     "name": "stdout",
     "output_type": "stream",
     "text": [
      "['data', 'feature_names', 'DESCR', 'target']\n",
      "['CRIM' 'ZN' 'INDUS' 'CHAS' 'NOX' 'RM' 'AGE' 'DIS' 'RAD' 'TAX' 'PTRATIO'\n",
      " 'B' 'LSTAT']\n",
      "(506L, 13L)\n",
      "(506L,)\n"
     ]
    }
   ],
   "source": [
    "print bdata.keys()\n",
    "print bdata.feature_names\n",
    "print bdata.data.shape\n",
    "print bdata.target.shape"
   ]
  },
  {
   "cell_type": "markdown",
   "metadata": {},
   "source": [
    "** Convert data structure **"
   ]
  },
  {
   "cell_type": "code",
   "execution_count": 21,
   "metadata": {
    "collapsed": true
   },
   "outputs": [],
   "source": [
    "boston = pd.DataFrame(bdata.data)\n",
    "boston.columns = bdata.feature_names[:]"
   ]
  },
  {
   "cell_type": "code",
   "execution_count": 22,
   "metadata": {
    "collapsed": false
   },
   "outputs": [
    {
     "name": "stdout",
     "output_type": "stream",
     "text": [
      "      CRIM    ZN  INDUS  CHAS    NOX     RM   AGE     DIS  RAD    TAX  \\\n",
      "0  0.00632  18.0   2.31   0.0  0.538  6.575  65.2  4.0900  1.0  296.0   \n",
      "1  0.02731   0.0   7.07   0.0  0.469  6.421  78.9  4.9671  2.0  242.0   \n",
      "2  0.02729   0.0   7.07   0.0  0.469  7.185  61.1  4.9671  2.0  242.0   \n",
      "3  0.03237   0.0   2.18   0.0  0.458  6.998  45.8  6.0622  3.0  222.0   \n",
      "4  0.06905   0.0   2.18   0.0  0.458  7.147  54.2  6.0622  3.0  222.0   \n",
      "\n",
      "   PTRATIO       B  LSTAT  \n",
      "0     15.3  396.90   4.98  \n",
      "1     17.8  396.90   9.14  \n",
      "2     17.8  392.83   4.03  \n",
      "3     18.7  394.63   2.94  \n",
      "4     18.7  396.90   5.33  \n"
     ]
    }
   ],
   "source": [
    "print boston.head(5)"
   ]
  },
  {
   "cell_type": "code",
   "execution_count": 23,
   "metadata": {
    "collapsed": true
   },
   "outputs": [],
   "source": [
    "boston['MEDV'] = bdata.target"
   ]
  },
  {
   "cell_type": "code",
   "execution_count": 24,
   "metadata": {
    "collapsed": false
   },
   "outputs": [
    {
     "name": "stdout",
     "output_type": "stream",
     "text": [
      "      CRIM    ZN  INDUS  CHAS    NOX     RM   AGE     DIS  RAD    TAX  \\\n",
      "0  0.00632  18.0   2.31   0.0  0.538  6.575  65.2  4.0900  1.0  296.0   \n",
      "1  0.02731   0.0   7.07   0.0  0.469  6.421  78.9  4.9671  2.0  242.0   \n",
      "2  0.02729   0.0   7.07   0.0  0.469  7.185  61.1  4.9671  2.0  242.0   \n",
      "3  0.03237   0.0   2.18   0.0  0.458  6.998  45.8  6.0622  3.0  222.0   \n",
      "4  0.06905   0.0   2.18   0.0  0.458  7.147  54.2  6.0622  3.0  222.0   \n",
      "\n",
      "   PTRATIO       B  LSTAT  MEDV  \n",
      "0     15.3  396.90   4.98  24.0  \n",
      "1     17.8  396.90   9.14  21.6  \n",
      "2     17.8  392.83   4.03  34.7  \n",
      "3     18.7  394.63   2.94  33.4  \n",
      "4     18.7  396.90   5.33  36.2  \n"
     ]
    }
   ],
   "source": [
    "print boston.head(5)"
   ]
  },
  {
   "cell_type": "markdown",
   "metadata": {},
   "source": [
    "### 1. T-test "
   ]
  },
  {
   "cell_type": "markdown",
   "metadata": {},
   "source": [
    "Using simple differences to examine if there is a significant difference in housing price for the neighborhoods where the tract bounds or doesn't bound the Charles River"
   ]
  },
  {
   "cell_type": "code",
   "execution_count": 25,
   "metadata": {
    "collapsed": true
   },
   "outputs": [],
   "source": [
    "river_t = boston[boston.CHAS == 1]\n",
    "river_f = boston[boston.CHAS == 0]"
   ]
  },
  {
   "cell_type": "markdown",
   "metadata": {},
   "source": [
    "** Did I correctly split the data? **"
   ]
  },
  {
   "cell_type": "code",
   "execution_count": 26,
   "metadata": {
    "collapsed": false
   },
   "outputs": [
    {
     "name": "stdout",
     "output_type": "stream",
     "text": [
      "1.0    35\n",
      "Name: CHAS, dtype: int64\n",
      "0.0    471\n",
      "Name: CHAS, dtype: int64\n"
     ]
    }
   ],
   "source": [
    "print river_t['CHAS'].value_counts()\n",
    "print river_f['CHAS'].value_counts()"
   ]
  },
  {
   "cell_type": "markdown",
   "metadata": {},
   "source": [
    "** Doing T-test **"
   ]
  },
  {
   "cell_type": "code",
   "execution_count": 27,
   "metadata": {
    "collapsed": true
   },
   "outputs": [],
   "source": [
    "mean_river_t = river_t['MEDV'].mean()\n",
    "mean_river_f = river_f['MEDV'].mean()"
   ]
  },
  {
   "cell_type": "code",
   "execution_count": 28,
   "metadata": {
    "collapsed": false
   },
   "outputs": [
    {
     "name": "stdout",
     "output_type": "stream",
     "text": [
      "Average price for neighborhoods near the Charles River:\t28.44\n",
      "Average price for neighborhoods not near the Charles River:\t22.0938428875\n",
      "t-stat:\t\t\t3.99643746609\n",
      "P-value:\t\t7.39062317052e-05\n"
     ]
    }
   ],
   "source": [
    "print 'Average price for neighborhoods near the Charles River:\\t', mean_river_t\n",
    "print 'Average price for neighborhoods not near the Charles River:\\t', mean_river_f\n",
    "tstat, pval = stats.ttest_ind(river_t['MEDV'].fillna(0), river_f['MEDV'].fillna(0))\n",
    "print 't-stat:\\t\\t\\t', tstat\n",
    "print 'P-value:\\t\\t', pval"
   ]
  },
  {
   "cell_type": "markdown",
   "metadata": {},
   "source": [
    "** What conclusion we can draw from the p-value? **"
   ]
  },
  {
   "cell_type": "markdown",
   "metadata": {},
   "source": [
    "### 2. Univariate regression"
   ]
  },
  {
   "cell_type": "markdown",
   "metadata": {},
   "source": [
    "In the Problem Set 1, we explored the relationship between house prices and crime by scatter plot where a negative correlation is evident. \n",
    "\n",
    "** Can you use univariate regression to support the finding? **"
   ]
  },
  {
   "cell_type": "code",
   "execution_count": 29,
   "metadata": {
    "collapsed": false
   },
   "outputs": [],
   "source": [
    "uni_mod = smf.ols(formula='MEDV ~ CRIM + NOX', data=boston)\n",
    "uni_result = uni_mod.fit()"
   ]
  },
  {
   "cell_type": "markdown",
   "metadata": {},
   "source": [
    "Looks like something is wrong above...\n",
    "\n",
    "** Can you fix it? **"
   ]
  },
  {
   "cell_type": "code",
   "execution_count": 30,
   "metadata": {
    "collapsed": true
   },
   "outputs": [],
   "source": [
    "smf.ols?"
   ]
  },
  {
   "cell_type": "code",
   "execution_count": null,
   "metadata": {
    "collapsed": false
   },
   "outputs": [],
   "source": []
  },
  {
   "cell_type": "markdown",
   "metadata": {},
   "source": [
    "** View the summary of modeling **"
   ]
  },
  {
   "cell_type": "code",
   "execution_count": 31,
   "metadata": {
    "collapsed": false
   },
   "outputs": [
    {
     "name": "stdout",
     "output_type": "stream",
     "text": [
      "                            OLS Regression Results                            \n",
      "==============================================================================\n",
      "Dep. Variable:                   MEDV   R-squared:                       0.235\n",
      "Model:                            OLS   Adj. R-squared:                  0.232\n",
      "Method:                 Least Squares   F-statistic:                     77.13\n",
      "Date:                Fri, 22 Apr 2016   Prob (F-statistic):           6.06e-30\n",
      "Time:                        21:43:15   Log-Likelihood:                -1772.6\n",
      "No. Observations:                 506   AIC:                             3551.\n",
      "Df Residuals:                     503   BIC:                             3564.\n",
      "Df Model:                           2                                         \n",
      "Covariance Type:            nonrobust                                         \n",
      "==============================================================================\n",
      "                 coef    std err          t      P>|t|      [95.0% Conf. Int.]\n",
      "------------------------------------------------------------------------------\n",
      "Intercept     37.6941      1.862     20.245      0.000        34.036    41.352\n",
      "CRIM          -0.2687      0.046     -5.852      0.000        -0.359    -0.179\n",
      "NOX          -25.5915      3.407     -7.511      0.000       -32.285   -18.898\n",
      "==============================================================================\n",
      "Omnibus:                      179.327   Durbin-Watson:                   0.717\n",
      "Prob(Omnibus):                  0.000   Jarque-Bera (JB):              506.778\n",
      "Skew:                           1.744   Prob(JB):                    9.01e-111\n",
      "Kurtosis:                       6.445   Cond. No.                         101.\n",
      "==============================================================================\n",
      "\n",
      "Warnings:\n",
      "[1] Standard Errors assume that the covariance matrix of the errors is correctly specified.\n"
     ]
    }
   ],
   "source": [
    "print uni_result.summary()"
   ]
  },
  {
   "cell_type": "markdown",
   "metadata": {},
   "source": [
    "** Get estimates of parameters **"
   ]
  },
  {
   "cell_type": "code",
   "execution_count": 32,
   "metadata": {
    "collapsed": false
   },
   "outputs": [
    {
     "name": "stdout",
     "output_type": "stream",
     "text": [
      "Intercept    37.694086\n",
      "CRIM         -0.268750\n",
      "NOX         -25.591462\n",
      "dtype: float64\n"
     ]
    }
   ],
   "source": [
    "print uni_result.params"
   ]
  },
  {
   "cell_type": "markdown",
   "metadata": {},
   "source": [
    "** Check the pvalues **"
   ]
  },
  {
   "cell_type": "code",
   "execution_count": 33,
   "metadata": {
    "collapsed": false
   },
   "outputs": [
    {
     "name": "stdout",
     "output_type": "stream",
     "text": [
      "Intercept    4.252761e-67\n",
      "CRIM         8.761658e-09\n",
      "NOX          2.690676e-13\n",
      "dtype: float64\n"
     ]
    }
   ],
   "source": [
    "print uni_result.pvalues"
   ]
  },
  {
   "cell_type": "code",
   "execution_count": 34,
   "metadata": {
    "collapsed": false
   },
   "outputs": [
    {
     "name": "stdout",
     "output_type": "stream",
     "text": [
      "8.76165821062e-09\n"
     ]
    }
   ],
   "source": [
    "print uni_result.pvalues[1]"
   ]
  },
  {
   "cell_type": "markdown",
   "metadata": {},
   "source": [
    "** Plot the regression model **"
   ]
  },
  {
   "cell_type": "markdown",
   "metadata": {},
   "source": [
    "In the Problem Set 1, we got the following plot:"
   ]
  },
  {
   "cell_type": "code",
   "execution_count": 35,
   "metadata": {
    "collapsed": false
   },
   "outputs": [
    {
     "data": {
      "image/png": "[encoded data removed]",
      "text/plain": [
       "<matplotlib.figure.Figure at 0xabc3208>"
      ]
     },
     "metadata": {},
     "output_type": "display_data"
    }
   ],
   "source": [
    "fig, ax = plt.subplots()\n",
    "\n",
    "ax.scatter(boston['CRIM'], boston['MEDV'])\n",
    "ax.set_ylabel(\"Median value of homes in $1000's\")\n",
    "ax.set_xlabel(\"Per-capita crime rate \")\n",
    "ax.set_title(\"Crime rate vs Median Housing Price\")\n",
    "ax.axis([0, 100, 0, 55])\n",
    "ax.yaxis.set_ticks_position('none')\n",
    "ax.xaxis.set_ticks_position('none')\n",
    "ax.set_xlim(-10,100)\n",
    "ax.grid(True) # Add grid by setting to True"
   ]
  },
  {
   "cell_type": "markdown",
   "metadata": {},
   "source": [
    "Add a regression line:"
   ]
  },
  {
   "cell_type": "code",
   "execution_count": 36,
   "metadata": {
    "collapsed": false
   },
   "outputs": [],
   "source": [
    "y_hat = uni_result.predict()"
   ]
  },
  {
   "cell_type": "code",
   "execution_count": 37,
   "metadata": {
    "collapsed": false
   },
   "outputs": [
    {
     "name": "stdout",
     "output_type": "stream",
     "text": [
      "(506L,)\n"
     ]
    }
   ],
   "source": [
    "print y_hat.shape"
   ]
  },
  {
   "cell_type": "code",
   "execution_count": 38,
   "metadata": {
    "collapsed": false
   },
   "outputs": [
    {
     "data": {
      "image/png": "[encoded data removed]",
      "text/plain": [
       "<matplotlib.figure.Figure at 0xabcf908>"
      ]
     },
     "metadata": {},
     "output_type": "display_data"
    }
   ],
   "source": [
    "fig, ax = plt.subplots()\n",
    "\n",
    "ax.plot(boston['CRIM'], y_hat, color = 'red')\n",
    "\n",
    "ax.scatter(boston['CRIM'], boston['MEDV'])\n",
    "ax.set_ylabel(\"Median value of homes in $1000's\")\n",
    "ax.set_xlabel(\"Per-capita crime rate \")\n",
    "ax.set_title(\"Crime rate vs Median Housing Price\")\n",
    "ax.axis([0, 100, 0, 55])\n",
    "ax.yaxis.set_ticks_position('none')\n",
    "ax.xaxis.set_ticks_position('none')\n",
    "ax.set_xlim(-10,100)\n",
    "ax.grid(True) # Add grid by setting to True"
   ]
  },
  {
   "cell_type": "markdown",
   "metadata": {},
   "source": [
    "### 3.  Multivariate regressions"
   ]
  },
  {
   "cell_type": "markdown",
   "metadata": {},
   "source": [
    "** If we are interested in more than one independent variables, say both crime rates and nitric oxides concentration: **"
   ]
  },
  {
   "cell_type": "code",
   "execution_count": 39,
   "metadata": {
    "collapsed": false
   },
   "outputs": [
    {
     "name": "stdout",
     "output_type": "stream",
     "text": [
      "                            OLS Regression Results                            \n",
      "==============================================================================\n",
      "Dep. Variable:                   MEDV   R-squared:                       0.235\n",
      "Model:                            OLS   Adj. R-squared:                  0.232\n",
      "Method:                 Least Squares   F-statistic:                     77.13\n",
      "Date:                Fri, 22 Apr 2016   Prob (F-statistic):           6.06e-30\n",
      "Time:                        21:43:15   Log-Likelihood:                -1772.6\n",
      "No. Observations:                 506   AIC:                             3551.\n",
      "Df Residuals:                     503   BIC:                             3564.\n",
      "Df Model:                           2                                         \n",
      "Covariance Type:            nonrobust                                         \n",
      "==============================================================================\n",
      "                 coef    std err          t      P>|t|      [95.0% Conf. Int.]\n",
      "------------------------------------------------------------------------------\n",
      "Intercept     37.6941      1.862     20.245      0.000        34.036    41.352\n",
      "CRIM          -0.2687      0.046     -5.852      0.000        -0.359    -0.179\n",
      "NOX          -25.5915      3.407     -7.511      0.000       -32.285   -18.898\n",
      "==============================================================================\n",
      "Omnibus:                      179.327   Durbin-Watson:                   0.717\n",
      "Prob(Omnibus):                  0.000   Jarque-Bera (JB):              506.778\n",
      "Skew:                           1.744   Prob(JB):                    9.01e-111\n",
      "Kurtosis:                       6.445   Cond. No.                         101.\n",
      "==============================================================================\n",
      "\n",
      "Warnings:\n",
      "[1] Standard Errors assume that the covariance matrix of the errors is correctly specified.\n"
     ]
    }
   ],
   "source": [
    "mul_mod = smf.ols(formula='MEDV ~ CRIM + NOX', data = boston)\n",
    "mul_result = mul_mod.fit()\n",
    "print mul_result.summary()"
   ]
  },
  {
   "cell_type": "markdown",
   "metadata": {},
   "source": [
    "** Remove intercept **"
   ]
  },
  {
   "cell_type": "code",
   "execution_count": 40,
   "metadata": {
    "collapsed": false
   },
   "outputs": [
    {
     "name": "stdout",
     "output_type": "stream",
     "text": [
      "                            OLS Regression Results                            \n",
      "==============================================================================\n",
      "Dep. Variable:                   MEDV   R-squared:                       0.137\n",
      "Model:                            OLS   Adj. R-squared:                  0.134\n",
      "Method:                 Least Squares   F-statistic:                     40.15\n",
      "Date:                Fri, 22 Apr 2016   Prob (F-statistic):           6.60e-17\n",
      "Time:                        21:43:15   Log-Likelihood:                -2295.7\n",
      "No. Observations:                 506   AIC:                             4595.\n",
      "Df Residuals:                     504   BIC:                             4604.\n",
      "Df Model:                           2                                         \n",
      "Covariance Type:            nonrobust                                         \n",
      "==============================================================================\n",
      "                 coef    std err          t      P>|t|      [95.0% Conf. Int.]\n",
      "------------------------------------------------------------------------------\n",
      "CRIM           0.5425      0.108      5.010      0.000         0.330     0.755\n",
      "CHAS          27.4355      3.833      7.158      0.000        19.905    34.966\n",
      "==============================================================================\n",
      "Omnibus:                       48.240   Durbin-Watson:                   0.236\n",
      "Prob(Omnibus):                  0.000   Jarque-Bera (JB):               98.586\n",
      "Skew:                          -0.555   Prob(JB):                     3.91e-22\n",
      "Kurtosis:                       4.856   Cond. No.                         35.4\n",
      "==============================================================================\n",
      "\n",
      "Warnings:\n",
      "[1] Standard Errors assume that the covariance matrix of the errors is correctly specified.\n"
     ]
    }
   ],
   "source": [
    "no_intcpt_mod = smf.ols(formula='MEDV ~ CRIM + CHAS - 1', data = boston)\n",
    "no_intcpt_result = no_intcpt_mod.fit()\n",
    "print no_intcpt_result.summary()"
   ]
  },
  {
   "cell_type": "markdown",
   "metadata": {},
   "source": [
    "** Exercise:  **\n",
    "\n",
    "Create a linear regression between house price and average number of rooms per dwelling; then, create a visualization showing your model"
   ]
  },
  {
   "cell_type": "code",
   "execution_count": 41,
   "metadata": {
    "collapsed": true
   },
   "outputs": [],
   "source": [
    "# Edit me!"
   ]
  },
  {
   "cell_type": "markdown",
   "metadata": {},
   "source": [
    "****"
   ]
  },
  {
   "cell_type": "markdown",
   "metadata": {},
   "source": [
    "** Interaction terms **"
   ]
  },
  {
   "cell_type": "code",
   "execution_count": 42,
   "metadata": {
    "collapsed": false
   },
   "outputs": [
    {
     "name": "stdout",
     "output_type": "stream",
     "text": [
      "                            OLS Regression Results                            \n",
      "==============================================================================\n",
      "Dep. Variable:                   MEDV   R-squared:                       0.179\n",
      "Model:                            OLS   Adj. R-squared:                  0.174\n",
      "Method:                 Least Squares   F-statistic:                     36.41\n",
      "Date:                Fri, 22 Apr 2016   Prob (F-statistic):           2.64e-21\n",
      "Time:                        21:43:15   Log-Likelihood:                -1790.4\n",
      "No. Observations:                 506   AIC:                             3589.\n",
      "Df Residuals:                     502   BIC:                             3606.\n",
      "Df Model:                           3                                         \n",
      "Covariance Type:            nonrobust                                         \n",
      "==============================================================================\n",
      "                 coef    std err          t      P>|t|      [95.0% Conf. Int.]\n",
      "------------------------------------------------------------------------------\n",
      "Intercept     23.6202      0.418     56.534      0.000        22.799    24.441\n",
      "CRIM          -0.4100      0.043     -9.432      0.000        -0.495    -0.325\n",
      "CHAS           3.5211      1.818      1.937      0.053        -0.050     7.092\n",
      "CRIM:CHAS      1.1113      0.576      1.928      0.054        -0.021     2.244\n",
      "==============================================================================\n",
      "Omnibus:                      119.295   Durbin-Watson:                   0.765\n",
      "Prob(Omnibus):                  0.000   Jarque-Bera (JB):              224.128\n",
      "Skew:                           1.337   Prob(JB):                     2.14e-49\n",
      "Kurtosis:                       4.867   Cond. No.                         46.5\n",
      "==============================================================================\n",
      "\n",
      "Warnings:\n",
      "[1] Standard Errors assume that the covariance matrix of the errors is correctly specified.\n"
     ]
    }
   ],
   "source": [
    "itr_mod = smf.ols(formula='MEDV ~ CRIM * CHAS', data = boston)\n",
    "itr_result = itr_mod.fit()\n",
    "print itr_result.summary()"
   ]
  },
  {
   "cell_type": "markdown",
   "metadata": {},
   "source": [
    "** Non-linear transformation of the predictors **"
   ]
  },
  {
   "cell_type": "code",
   "execution_count": 43,
   "metadata": {
    "collapsed": false
   },
   "outputs": [
    {
     "name": "stdout",
     "output_type": "stream",
     "text": [
      "                            OLS Regression Results                            \n",
      "==============================================================================\n",
      "Dep. Variable:                   MEDV   R-squared:                       0.207\n",
      "Model:                            OLS   Adj. R-squared:                  0.204\n",
      "Method:                 Least Squares   F-statistic:                     65.54\n",
      "Date:                Fri, 22 Apr 2016   Prob (F-statistic):           5.05e-26\n",
      "Time:                        21:43:15   Log-Likelihood:                -1781.6\n",
      "No. Observations:                 506   AIC:                             3569.\n",
      "Df Residuals:                     503   BIC:                             3582.\n",
      "Df Model:                           2                                         \n",
      "Covariance Type:            nonrobust                                         \n",
      "=====================================================================================\n",
      "                        coef    std err          t      P>|t|      [95.0% Conf. Int.]\n",
      "-------------------------------------------------------------------------------------\n",
      "Intercept            24.8983      0.421     59.073      0.000        24.070    25.726\n",
      "CRIM                 -0.8702      0.087    -10.043      0.000        -1.040    -0.700\n",
      "np.power(CRIM, 2)     0.0088      0.001      6.058      0.000         0.006     0.012\n",
      "==============================================================================\n",
      "Omnibus:                      158.535   Durbin-Watson:                   0.690\n",
      "Prob(Omnibus):                  0.000   Jarque-Bera (JB):              390.640\n",
      "Skew:                           1.598   Prob(JB):                     1.49e-85\n",
      "Kurtosis:                       5.884   Cond. No.                         604.\n",
      "==============================================================================\n",
      "\n",
      "Warnings:\n",
      "[1] Standard Errors assume that the covariance matrix of the errors is correctly specified.\n"
     ]
    }
   ],
   "source": [
    "non_linear_mod = smf.ols(formula='MEDV ~ CRIM + np.power(CRIM, 2)', data = boston)\n",
    "non_linear_result = non_linear_mod.fit()\n",
    "print non_linear_result.summary()"
   ]
  },
  {
   "cell_type": "markdown",
   "metadata": {},
   "source": [
    "### Tabular representation of regression model"
   ]
  },
  {
   "cell_type": "code",
   "execution_count": 44,
   "metadata": {
    "collapsed": false
   },
   "outputs": [
    {
     "name": "stdout",
     "output_type": "stream",
     "text": [
      "                            OLS Regression Results                            \n",
      "==============================================================================\n",
      "Dep. Variable:                   MEDV   R-squared:                       0.298\n",
      "Model:                            OLS   Adj. R-squared:                  0.292\n",
      "Method:                 Least Squares   F-statistic:                     53.20\n",
      "Date:                Fri, 22 Apr 2016   Prob (F-statistic):           2.35e-37\n",
      "Time:                        21:43:15   Log-Likelihood:                -1750.7\n",
      "No. Observations:                 506   AIC:                             3511.\n",
      "Df Residuals:                     501   BIC:                             3533.\n",
      "Df Model:                           4                                         \n",
      "Covariance Type:            nonrobust                                         \n",
      "===============================================================================\n",
      "                  coef    std err          t      P>|t|      [95.0% Conf. Int.]\n",
      "-------------------------------------------------------------------------------\n",
      "Intercept      65.0863      6.435     10.115      0.000        52.444    77.729\n",
      "CRIM           -0.1636      0.048     -3.397      0.001        -0.258    -0.069\n",
      "NOX           -17.7373      4.022     -4.410      0.000       -25.640    -9.835\n",
      "CHAS            6.4593      1.375      4.698      0.000         3.758     9.161\n",
      "np.log(TAX)    -5.4917      1.268     -4.333      0.000        -7.982    -3.001\n",
      "==============================================================================\n",
      "Omnibus:                      171.295   Durbin-Watson:                   0.769\n",
      "Prob(Omnibus):                  0.000   Jarque-Bera (JB):              475.280\n",
      "Skew:                           1.666   Prob(JB):                    6.23e-104\n",
      "Kurtosis:                       6.382   Cond. No.                         192.\n",
      "==============================================================================\n",
      "\n",
      "Warnings:\n",
      "[1] Standard Errors assume that the covariance matrix of the errors is correctly specified.\n"
     ]
    }
   ],
   "source": [
    "final_mod = smf.ols(formula='MEDV ~ CRIM + NOX + CHAS + np.log(TAX)', data = boston)\n",
    "final_result = final_mod.fit()\n",
    "print final_result.summary()"
   ]
  },
  {
   "cell_type": "code",
   "execution_count": 45,
   "metadata": {
    "collapsed": false
   },
   "outputs": [
    {
     "name": "stdout",
     "output_type": "stream",
     "text": [
      "Intercept      65.086319\n",
      "CRIM           -0.163571\n",
      "NOX           -17.737318\n",
      "CHAS            6.459316\n",
      "np.log(TAX)    -5.491729\n",
      "dtype: float64\n"
     ]
    }
   ],
   "source": [
    "print final_result.params"
   ]
  },
  {
   "cell_type": "code",
   "execution_count": 46,
   "metadata": {
    "collapsed": true
   },
   "outputs": [],
   "source": [
    "v_name = final_result.params.index"
   ]
  },
  {
   "cell_type": "code",
   "execution_count": 47,
   "metadata": {
    "collapsed": false
   },
   "outputs": [
    {
     "data": {
      "text/html": [
       "<div>\n",
       "<table border=\"1\" class=\"dataframe\">\n",
       "  <thead>\n",
       "    <tr style=\"text-align: right;\">\n",
       "      <th></th>\n",
       "      <th>Coefficient</th>\n",
       "      <th>Standard Error</th>\n",
       "      <th>P-Value</th>\n",
       "    </tr>\n",
       "  </thead>\n",
       "  <tbody>\n",
       "    <tr>\n",
       "      <th>Intercept</th>\n",
       "      <td>NaN</td>\n",
       "      <td>NaN</td>\n",
       "      <td>NaN</td>\n",
       "    </tr>\n",
       "    <tr>\n",
       "      <th>CRIM</th>\n",
       "      <td>NaN</td>\n",
       "      <td>NaN</td>\n",
       "      <td>NaN</td>\n",
       "    </tr>\n",
       "    <tr>\n",
       "      <th>NOX</th>\n",
       "      <td>NaN</td>\n",
       "      <td>NaN</td>\n",
       "      <td>NaN</td>\n",
       "    </tr>\n",
       "    <tr>\n",
       "      <th>CHAS</th>\n",
       "      <td>NaN</td>\n",
       "      <td>NaN</td>\n",
       "      <td>NaN</td>\n",
       "    </tr>\n",
       "    <tr>\n",
       "      <th>np.log(TAX)</th>\n",
       "      <td>NaN</td>\n",
       "      <td>NaN</td>\n",
       "      <td>NaN</td>\n",
       "    </tr>\n",
       "  </tbody>\n",
       "</table>\n",
       "</div>"
      ],
      "text/plain": [
       "            Coefficient Standard Error P-Value\n",
       "Intercept           NaN            NaN     NaN\n",
       "CRIM                NaN            NaN     NaN\n",
       "NOX                 NaN            NaN     NaN\n",
       "CHAS                NaN            NaN     NaN\n",
       "np.log(TAX)         NaN            NaN     NaN"
      ]
     },
     "execution_count": 47,
     "metadata": {},
     "output_type": "execute_result"
    }
   ],
   "source": [
    "result_df = pd.DataFrame(columns=['Coefficient','Standard Error','P-Value'], index = v_name)\n",
    "result_df"
   ]
  },
  {
   "cell_type": "code",
   "execution_count": 48,
   "metadata": {
    "collapsed": false
   },
   "outputs": [],
   "source": [
    "result_df['Coefficient'] = final_result.params\n",
    "result_df['Standard Error'] = final_result.bse\n",
    "result_df['P-Value'] = final_result.pvalues"
   ]
  },
  {
   "cell_type": "code",
   "execution_count": 49,
   "metadata": {
    "collapsed": false
   },
   "outputs": [
    {
     "data": {
      "text/html": [
       "<div>\n",
       "<table border=\"1\" class=\"dataframe\">\n",
       "  <thead>\n",
       "    <tr style=\"text-align: right;\">\n",
       "      <th></th>\n",
       "      <th>Coefficient</th>\n",
       "      <th>Standard Error</th>\n",
       "      <th>P-Value</th>\n",
       "    </tr>\n",
       "  </thead>\n",
       "  <tbody>\n",
       "    <tr>\n",
       "      <th>Intercept</th>\n",
       "      <td>65.086319</td>\n",
       "      <td>6.434841</td>\n",
       "      <td>5.218527e-22</td>\n",
       "    </tr>\n",
       "    <tr>\n",
       "      <th>CRIM</th>\n",
       "      <td>-0.163571</td>\n",
       "      <td>0.048147</td>\n",
       "      <td>7.345392e-04</td>\n",
       "    </tr>\n",
       "    <tr>\n",
       "      <th>NOX</th>\n",
       "      <td>-17.737318</td>\n",
       "      <td>4.022184</td>\n",
       "      <td>1.266682e-05</td>\n",
       "    </tr>\n",
       "    <tr>\n",
       "      <th>CHAS</th>\n",
       "      <td>6.459316</td>\n",
       "      <td>1.374877</td>\n",
       "      <td>3.396643e-06</td>\n",
       "    </tr>\n",
       "    <tr>\n",
       "      <th>np.log(TAX)</th>\n",
       "      <td>-5.491729</td>\n",
       "      <td>1.267514</td>\n",
       "      <td>1.780630e-05</td>\n",
       "    </tr>\n",
       "  </tbody>\n",
       "</table>\n",
       "</div>"
      ],
      "text/plain": [
       "             Coefficient  Standard Error       P-Value\n",
       "Intercept      65.086319        6.434841  5.218527e-22\n",
       "CRIM           -0.163571        0.048147  7.345392e-04\n",
       "NOX           -17.737318        4.022184  1.266682e-05\n",
       "CHAS            6.459316        1.374877  3.396643e-06\n",
       "np.log(TAX)    -5.491729        1.267514  1.780630e-05"
      ]
     },
     "execution_count": 49,
     "metadata": {},
     "output_type": "execute_result"
    }
   ],
   "source": [
    "result_df"
   ]
  },
  {
   "cell_type": "markdown",
   "metadata": {},
   "source": [
    "### To learn more: Scikit-learn library for linear regression and Seaborn library for visualization"
   ]
  },
  {
   "cell_type": "code",
   "execution_count": 50,
   "metadata": {
    "collapsed": false
   },
   "outputs": [
    {
     "ename": "ImportError",
     "evalue": "No module named seaborn",
     "output_type": "error",
     "traceback": [
      "\u001b[1;31m---------------------------------------------------------------------------\u001b[0m",
      "\u001b[1;31mImportError\u001b[0m                               Traceback (most recent call last)",
      "\u001b[1;32m<ipython-input-50-c48663daafca>\u001b[0m in \u001b[0;36m<module>\u001b[1;34m()\u001b[0m\n\u001b[1;32m----> 1\u001b[1;33m \u001b[1;32mimport\u001b[0m \u001b[0mseaborn\u001b[0m \u001b[1;32mas\u001b[0m \u001b[0msns\u001b[0m\u001b[1;33m\u001b[0m\u001b[0m\n\u001b[0m\u001b[0;32m      2\u001b[0m \u001b[0msns\u001b[0m\u001b[1;33m.\u001b[0m\u001b[0mset\u001b[0m\u001b[1;33m(\u001b[0m\u001b[0mstyle\u001b[0m\u001b[1;33m=\u001b[0m\u001b[1;34m\"ticks\"\u001b[0m\u001b[1;33m)\u001b[0m\u001b[1;33m\u001b[0m\u001b[0m\n\u001b[0;32m      3\u001b[0m \u001b[1;33m\u001b[0m\u001b[0m\n\u001b[0;32m      4\u001b[0m \u001b[1;31m# Show the results of a linear regression within each dataset\u001b[0m\u001b[1;33m\u001b[0m\u001b[1;33m\u001b[0m\u001b[0m\n\u001b[0;32m      5\u001b[0m sns.lmplot(x=\"CRIM\", y=\"MEDV\", data=boston,\n",
      "\u001b[1;31mImportError\u001b[0m: No module named seaborn"
     ]
    }
   ],
   "source": [
    "import seaborn as sns\n",
    "sns.set(style=\"ticks\")\n",
    "\n",
    "# Show the results of a linear regression within each dataset\n",
    "sns.lmplot(x=\"CRIM\", y=\"MEDV\", data=boston,\n",
    "            ci=None, palette=\"muted\", size=4,\n",
    "           scatter_kws={\"s\": 50, \"alpha\": 1})"
   ]
  },
  {
   "cell_type": "markdown",
   "metadata": {},
   "source": [
    "** Exercise:  **\n",
    "\n",
    "A) Using multiple regression, construct a model of your chosing to examine the relationship between house price other variables in the data set."
   ]
  },
  {
   "cell_type": "code",
   "execution_count": null,
   "metadata": {
    "collapsed": true
   },
   "outputs": [],
   "source": [
    "# Edit me!"
   ]
  },
  {
   "cell_type": "markdown",
   "metadata": {},
   "source": [
    "B) Create a visualization showing your model"
   ]
  },
  {
   "cell_type": "code",
   "execution_count": null,
   "metadata": {
    "collapsed": true
   },
   "outputs": [],
   "source": [
    "# Edit me!"
   ]
  }
 ],
 "metadata": {
  "kernelspec": {
   "display_name": "Python 2",
   "language": "python",
   "name": "python2"
  },
  "language_info": {
   "codemirror_mode": {
    "name": "ipython",
    "version": 2
   },
   "file_extension": ".py",
   "mimetype": "text/x-python",
   "name": "python",
   "nbconvert_exporter": "python",
   "pygments_lexer": "ipython2",
   "version": "2.7.11"
  }
 },
 "nbformat": 4,
 "nbformat_minor": 0
}
