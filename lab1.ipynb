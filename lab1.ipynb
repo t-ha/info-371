{
 "cells": [
  {
   "cell_type": "markdown",
   "metadata": {},
   "source": [
    "# INFO 371 - Spring 2016\n",
    "## Lab 1 - Introduction to Python"
   ]
  },
  {
   "cell_type": "markdown",
   "metadata": {},
   "source": [
    "### Outline\n",
    "* Why use Python for data science?\n",
    "* iPython\n",
    "* Jupiter Notebooks\n",
    "* Python Basics\n",
    "    * Basic Data Types and Operations\n",
    "    * Lists (creating, indexing, slicing, subsetting, manipulating)\n",
    "    * Tuples, Sets, Dictionaries\n",
    "* Control Flow\n",
    "    * if…else\n",
    "    * loops, breaks, pass statements\n",
    "* Style Guide\n",
    "\n",
    "### References\n",
    "* https://docs.python.org/2/tutorial/index.html\n",
    "* https://google.github.io/styleguide/pyguide.html\n"
   ]
  },
  {
   "cell_type": "markdown",
   "metadata": {},
   "source": [
    "### 1. Basic Data Types and Operations\n",
    "int and float"
   ]
  },
  {
   "cell_type": "code",
   "execution_count": null,
   "metadata": {
    "collapsed": false
   },
   "outputs": [],
   "source": [
    "# integer \n",
    "int1 = 10\n",
    "int2 = 15\n",
    "# float\n",
    "float1 = 10.3\n",
    "float2 = 2.7\n",
    "\n",
    "# Basic operators:\n",
    "print float1 + float2 # addition\n",
    "print float1 - float2 # subtraction\n",
    "print float1 * float2 # multiplication\n",
    "print float1 / float2 # division\n",
    "print float1 // float2 # floor division\n",
    "print int2 % int1 # find the remainder of the division"
   ]
  },
  {
   "cell_type": "code",
   "execution_count": null,
   "metadata": {
    "collapsed": false
   },
   "outputs": [],
   "source": [
    "# Notice what we get when an interger is divided by another integer\n",
    "print int1 / int2, type(int1 / int2)\n",
    "\n",
    "# What if I want to calculate a frequency?\n"
   ]
  },
  {
   "cell_type": "markdown",
   "metadata": {},
   "source": [
    "string"
   ]
  },
  {
   "cell_type": "code",
   "execution_count": null,
   "metadata": {
    "collapsed": false
   },
   "outputs": [],
   "source": [
    "# define a string\n",
    "str1 = \"iPython\"\n",
    "str2 = \"Notebook\"\n",
    "str3 = \"iPython Notebook\"\n",
    "print str1, type(str1)"
   ]
  },
  {
   "cell_type": "markdown",
   "metadata": {},
   "source": [
    "unicode string"
   ]
  },
  {
   "cell_type": "code",
   "execution_count": null,
   "metadata": {
    "collapsed": false
   },
   "outputs": [],
   "source": [
    "# define a unicode string\n",
    "uni_str1 = u'Hello\\u0020World!' # \\u0020 indicates the Unicode character 0x0020 (the space character)\n",
    "print uni_str1, type(uni_str1)"
   ]
  },
  {
   "cell_type": "code",
   "execution_count": null,
   "metadata": {
    "collapsed": false
   },
   "outputs": [],
   "source": [
    "# basic string operations\n",
    "print(\"Some ways to concatenate two strings:\")\n",
    "print str1*2\n",
    "print str1+str2\n",
    "# join method\n",
    "print \" \".join([str1, str2]) \n",
    "\n",
    "print(\"To check if two strings are the same:\")\n",
    "print (str1 + \" \" + str2) == str3\n",
    "\n",
    "# split the string by the space char\n",
    "print(str3.split(\" \")), type((str3.split(\" \"))) \n",
    "print(str3.split(\"a\")), type((str3.split(\" \"))) "
   ]
  },
  {
   "cell_type": "markdown",
   "metadata": {},
   "source": [
    "### 2. Lists"
   ]
  },
  {
   "cell_type": "code",
   "execution_count": null,
   "metadata": {
    "collapsed": false
   },
   "outputs": [],
   "source": [
    "# define an empty list\n",
    "list1 = [] # or try list1 = list()\n",
    "print list1, type(list1)"
   ]
  },
  {
   "cell_type": "code",
   "execution_count": null,
   "metadata": {
    "collapsed": false
   },
   "outputs": [],
   "source": [
    "# append a new item to the list\n",
    "list1.append(1)\n",
    "print list1\n",
    "\n",
    "# a list can contain items with different data types\n",
    "list1.append(\"lol\")\n",
    "print list1\n",
    "\n",
    "# lists also supports operations like concatenation:\n",
    "list2 = list1 + [2, 3, 4, 5]\n",
    "print list2\n",
    "\n",
    "# get the length of the list\n",
    "print len(list2)"
   ]
  },
  {
   "cell_type": "code",
   "execution_count": null,
   "metadata": {
    "collapsed": false
   },
   "outputs": [],
   "source": [
    "# indexing: python list is 0-based indexing\n",
    "print list2[0]\n",
    "print list2[-1]\n",
    "\n",
    "# slicing:\n",
    "print list2[:]\n",
    "print list2[:-1]\n",
    "print list2[:-2]\n",
    "print list2[1:3]"
   ]
  },
  {
   "cell_type": "code",
   "execution_count": null,
   "metadata": {
    "collapsed": false
   },
   "outputs": [],
   "source": [
    "# now remove a slice from the list\n",
    "list2[1:3] = []\n",
    "print list2\n",
    "\n",
    "# create a nested list\n",
    "print [list1, list2]"
   ]
  },
  {
   "cell_type": "markdown",
   "metadata": {},
   "source": [
    "### 3. Tuples"
   ]
  },
  {
   "cell_type": "code",
   "execution_count": null,
   "metadata": {
    "collapsed": false
   },
   "outputs": [],
   "source": [
    "# define an empty tuple\n",
    "tuple1 = ()\n",
    "\n",
    "# Tuples are immutable collections\n",
    "tuple1 = (1,2,3,4,2) # or tuple1 = tuple((1,2,3,4))\n",
    "\n",
    "print tuple1[1:3]"
   ]
  },
  {
   "cell_type": "code",
   "execution_count": null,
   "metadata": {
    "collapsed": false
   },
   "outputs": [],
   "source": [
    "# what if there is only one item in the tuple?\n",
    "tuple2 = (50)\n",
    "print tuple2, type(tuple2)\n",
    "# a comma has to be added\n",
    "tuple3 = (50, )\n",
    "print tuple3, type(tuple3)"
   ]
  },
  {
   "cell_type": "code",
   "execution_count": null,
   "metadata": {
    "collapsed": false
   },
   "outputs": [],
   "source": [
    "# operations for tuples are pretty similiar to the operations for lists\n",
    "print tuple1 + tuple3\n",
    "print tuple1[0]\n",
    "print tuple1[1:]"
   ]
  },
  {
   "cell_type": "code",
   "execution_count": null,
   "metadata": {
    "collapsed": false
   },
   "outputs": [],
   "source": [
    "print tuple1\n",
    "print len(tuple1)\n",
    "print max(tuple1)\n",
    "print min(tuple1)"
   ]
  },
  {
   "cell_type": "markdown",
   "metadata": {},
   "source": [
    "### 4. Sets and Dictionaries"
   ]
  },
  {
   "cell_type": "code",
   "execution_count": null,
   "metadata": {
    "collapsed": false
   },
   "outputs": [],
   "source": [
    "# A set is an unordered collection with no duplicate elements.\n",
    "shopping_list = ['apples', 'yogurt', 'milk', 'pears', 'oranges', 'milk', 'apples', 'lemons']\n",
    "shopping_tuple = ('apples', 'yogurt', 'milk', 'pears', 'oranges', 'milk', 'apples', 'lemons')\n",
    "\n",
    "unique1 = set(shopping_list) # create a set without duplicates\n",
    "print unique1\n",
    "unique2 = set(shopping_tuple)\n",
    "print unique2"
   ]
  },
  {
   "cell_type": "code",
   "execution_count": null,
   "metadata": {
    "collapsed": false
   },
   "outputs": [],
   "source": [
    "# A dictionary is an unordered set of (key: value) pairs, with the requirement that the keys are unique\n",
    "grocery = {'fruit' : ('apples', 'pears', 'oranges', 'lemons'), 'dairy' : ('yogurt', 'milk')}\n",
    "print grocery.keys()\n",
    "print grocery['fruit']\n",
    "# to add another key in the dict\n",
    "grocery['meat'] = ('pork', 'beef')\n",
    "print grocery\n",
    "# to delete a key in the dict\n",
    "del grocery['meat']\n",
    "print grocery"
   ]
  },
  {
   "cell_type": "markdown",
   "metadata": {},
   "source": [
    "### 5. Control Flow"
   ]
  },
  {
   "cell_type": "markdown",
   "metadata": {},
   "source": [
    "if...else"
   ]
  },
  {
   "cell_type": "code",
   "execution_count": null,
   "metadata": {
    "collapsed": false
   },
   "outputs": [],
   "source": [
    "grocery = {'fruit' : ('apples', 'pears', 'oranges', 'lemons'), 'dairy' : ('yogurt', 'milk')}\n",
    "\n",
    "if 'apples' in grocery['fruit']:\n",
    "    print \"I will buy apples\"\n",
    "elif 'yogurt' in grocery['dairy']:\n",
    "    print \"I will buy yogurt\"\n",
    "else:\n",
    "    print \"I will neither buy apples nor yogurt\""
   ]
  },
  {
   "cell_type": "markdown",
   "metadata": {},
   "source": [
    "for loop, break and continue statements"
   ]
  },
  {
   "cell_type": "code",
   "execution_count": null,
   "metadata": {
    "collapsed": false
   },
   "outputs": [],
   "source": [
    "# use for loop to iterate over a dictionary\n",
    "for key, val in grocery.items():\n",
    "    print (\"{} = {}\".format(key, val))"
   ]
  },
  {
   "cell_type": "code",
   "execution_count": null,
   "metadata": {
    "collapsed": false
   },
   "outputs": [],
   "source": [
    "# continue statements: to continue with the next iteration of the loop;\n",
    "# break statements: to break out of the smallest enclosing loop;\n",
    "for item in grocery['fruit']:\n",
    "    print item\n",
    "    for amount in range(1,4):\n",
    "        if item == 'apples':\n",
    "            if amount == 1:\n",
    "                continue\n",
    "        if item == 'oranges':\n",
    "            break\n",
    "        print amount        \n",
    "    print \"-------------\"    "
   ]
  },
  {
   "cell_type": "markdown",
   "metadata": {},
   "source": [
    "while loop and pass statements"
   ]
  },
  {
   "cell_type": "code",
   "execution_count": null,
   "metadata": {
    "collapsed": false
   },
   "outputs": [],
   "source": [
    "# A while loop statement repeatedly executes a target statement as long as a given condition is true.\n",
    "# A pass statement does nothing.\n",
    "\n",
    "i = 0\n",
    "while i < 5:\n",
    "    i += 1\n",
    "    if i % 2 == 0:\n",
    "        print \"Found an even number: \", i\n",
    "    else:\n",
    "        pass    "
   ]
  },
  {
   "cell_type": "markdown",
   "metadata": {},
   "source": [
    "### 6. Style Guide\n",
    "For more details, please refer to https://google.github.io/styleguide/pyguide.html\n",
    "* Semicolons:\n",
    "    do not terminate your lines with semi-colons and do not use semi-colons to put two commands on the same line.\n",
    "* Line length:\n",
    "    maximum line length is 80 characters.\n",
    "* Parentheses:\n",
    "    use parentheses sparingly.\n",
    "* Indentation:\n",
    "    indent your code blocks with 4 spaces.\n",
    "* Whitespace:\n",
    "    follow standard typographic rules for the use of spaces around punctuation.\n",
    "* Comments:\n",
    "    for readability, try to always explain the functionality of your lines by commenting; Be sure to use the right style for module, function, method and in-line comments.\n",
    "* Statements: \n",
    "    generally only one statement per line.\n",
    "* Naming: choose meaningful names. Some variable names in this tutorial are bad examples! :P\n",
    "    * Brief name convention: module_name, package_name, ClassName, method_name, ExceptionName, function_name, GLOBAL_CONSTANT_NAME, global_var_name, instance_var_name, function_parameter_name, local_var_name.\n",
    "\n"
   ]
  },
  {
   "cell_type": "markdown",
   "metadata": {},
   "source": [
    "### Exercise"
   ]
  },
  {
   "cell_type": "markdown",
   "metadata": {},
   "source": [
    "Create a dictionary that consists of the following information about your five classmates: names as keys and student numbers as values. Iterate over the dictionary and print out a student's information if her/his student number is even. Start to apply principles of Python style guide in practice!"
   ]
  },
  {
   "cell_type": "code",
   "execution_count": null,
   "metadata": {
    "collapsed": true
   },
   "outputs": [],
   "source": [
    "#Edit me"
   ]
  }
 ],
 "metadata": {
  "kernelspec": {
   "display_name": "Python 2",
   "language": "python",
   "name": "python2"
  },
  "language_info": {
   "codemirror_mode": {
    "name": "ipython",
    "version": 2
   },
   "file_extension": ".py",
   "mimetype": "text/x-python",
   "name": "python",
   "nbconvert_exporter": "python",
   "pygments_lexer": "ipython2",
   "version": "2.7.11"
  }
 },
 "nbformat": 4,
 "nbformat_minor": 0
}
